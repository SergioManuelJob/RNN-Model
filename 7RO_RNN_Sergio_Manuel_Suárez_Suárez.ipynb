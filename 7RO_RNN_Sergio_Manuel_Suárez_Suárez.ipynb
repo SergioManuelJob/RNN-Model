{
  "nbformat": 4,
  "nbformat_minor": 0,
  "metadata": {
    "colab": {
      "provenance": [],
      "include_colab_link": true
    },
    "kernelspec": {
      "name": "python3",
      "display_name": "Python 3"
    },
    "accelerator": "GPU"
  },
  "cells": [
    {
      "cell_type": "markdown",
      "metadata": {
        "id": "view-in-github",
        "colab_type": "text"
      },
      "source": [
        "<a href=\"https://colab.research.google.com/github/SergioManuelJob/RNN-Model/blob/master/7RO_RNN_Sergio_Manuel_Su%C3%A1rez_Su%C3%A1rez.ipynb\" target=\"_parent\"><img src=\"https://colab.research.google.com/assets/colab-badge.svg\" alt=\"Open In Colab\"/></a>"
      ]
    },
    {
      "metadata": {
        "id": "mX8gZlVyCCbz"
      },
      "cell_type": "markdown",
      "source": [
        "# Laboratorio: Modelos del lenguaje con RNNs\n",
        "\n",
        "En este laboratorio, vamos a entrenar un modelo del lenguaje basado en caracteres con Recurrent Neural Networks. Asimismo, utilizaremos el modelo para generar texto. En particular, alimentaremos nuestro modelo con obras de la literatura clásica en castellano para obtener una red neuronal que sea capaz de \"escribir\" fragmentos literarios.\n",
        "\n",
        "Los entrenamientos en esta laboratorio para obtener un modelo de calidad podrían tomar cierto tiempo (5-10 minutos por epoch), por lo que se aconseja empezar a trabajar pronto. El uso de GPUs no ayuda tanto con LSTMs como con CNNs, por lo que si tenéis máquinas potentes en casa es posible que podáis entrenar más rápido o a la misma velocidad que en Colab. En todo caso, la potencia de Colab es más que suficiente para completar este laboratorio con éxito.\n",
        "\n",
        "<center><img src=\"https://upload.wikimedia.org/wikipedia/commons/thumb/c/cb/Portada_Trafalgar_%281873%29.jpg/800px-Portada_Trafalgar_%281873%29.jpg\" style=\"text-align: center\" height=\"300px\"></center>\n",
        "\n",
        "El dataset a utilizar consistirá en un archivo de texto con el contenido íntegro en castellano de Trafalgar, disponible de manera libre en la página de [Project Gutenberg](https://www.gutenberg.org). Asimismo, como apartado optativo en este laboratorio se pueden utilizar otras fuentes de texto. Aquí podéis descargar los datos a utilizar de El Quijote y un par de obras adicionales:\n",
        "\n",
        "[El ingenioso hidalgo Don Quijote de la Mancha (Miguel de Cervantes)](https://onedrive.live.com/download?cid=C506CF0A4F373B0F&resid=C506CF0A4F373B0F%219424&authkey=AH0gb-qSo5Xd7Io)\n",
        "\n",
        "[Compilación de obras teatrales (Calderón de la Barca)](https://onedrive.live.com/download?cid=C506CF0A4F373B0F&resid=C506CF0A4F373B0F%219433&authkey=AKvGD6DC3IRBqmc)\n",
        "\n",
        "[Trafalgar (Benito Pérez Galdós)](https://onedrive.live.com/download?cid=C506CF0A4F373B0F&resid=C506CF0A4F373B0F%219434&authkey=AErPCAtMKOI5tYQ)\n",
        "\n",
        "Como ya deberíamos de estar acostumbrados en problemas de Machine Learning, es importante echar un vistazo a los datos antes de empezar."
      ]
    },
    {
      "metadata": {
        "id": "QI274F8LQC59"
      },
      "cell_type": "markdown",
      "source": [
        "## 1. Carga y procesado del texto"
      ]
    },
    {
      "metadata": {
        "id": "MZNnzvXuqVVm"
      },
      "cell_type": "markdown",
      "source": [
        "Primero, vamos a descargar el libro e inspeccionar los datos. El fichero a descargar es una versión en .txt del libro Trafalgar, a la cual se le han borrado introducciones, licencias y otras secciones para dejarlo con el contenido real de la novela."
      ]
    },
    {
      "metadata": {
        "id": "D7tKOZ9BFfki",
        "colab": {
          "base_uri": "https://localhost:8080/"
        },
        "outputId": "5fe27f9d-be60-4d8e-ae36-dbdf7fd05ad4"
      },
      "cell_type": "code",
      "source": [
        "import numpy as np\n",
        "import keras\n",
        "import matplotlib.pyplot as plt\n",
        "from keras.callbacks import LambdaCallback\n",
        "from keras.models import Sequential\n",
        "from keras.layers import Dense\n",
        "from keras.layers import LSTM\n",
        "import random\n",
        "import io\n",
        "\n",
        "path = keras.utils.get_file(\n",
        "fname=\"trafalgar.txt\",\n",
        "origin=\"https://onedrive.live.com/download?cid=C506CF0A4F373B0F&resid=C506CF0A4F373B0F%219434&authkey=AErPCAtMKOI5tYQ\"\n",
        ")"
      ],
      "execution_count": 1,
      "outputs": [
        {
          "output_type": "stream",
          "name": "stdout",
          "text": [
            "Downloading data from https://onedrive.live.com/download?cid=C506CF0A4F373B0F&resid=C506CF0A4F373B0F%219434&authkey=AErPCAtMKOI5tYQ\n",
            "312774/312774 [==============================] - 1s 2us/step\n"
          ]
        }
      ]
    },
    {
      "metadata": {
        "id": "VYGLvjLXrUUd"
      },
      "cell_type": "markdown",
      "source": [
        "Una vez descargado, vamos a leer el contenido del fichero en una variable. Adicionalmente, convertiremos el contenido del texto a minúsculas para ponérselo un poco más fácil a nuestro modelo (de modo que todas las letras sean minúsculas y el modelo no necesite diferenciar entre minúsculas y mayúsculas).\n",
        "\n",
        "**1.1.** Leer todo el contenido del fichero en una única variable ***text*** y convertir el string a minúsculas"
      ]
    },
    {
      "metadata": {
        "id": "8WB6FejrrTu9"
      },
      "cell_type": "code",
      "source": [
        "text=open(path).read().lower()"
      ],
      "execution_count": 2,
      "outputs": []
    },
    {
      "metadata": {
        "id": "dkgGl8GWtUk8"
      },
      "cell_type": "markdown",
      "source": [
        "Podemos comprobar ahora que efectivamente nuestra variable contiene el resultado deseado, con el comienzo tan característico del Quijote."
      ]
    },
    {
      "metadata": {
        "id": "hMFhe3COFwSD",
        "colab": {
          "base_uri": "https://localhost:8080/"
        },
        "outputId": "5376f340-6202-4fd6-9e66-613507c4066e"
      },
      "cell_type": "code",
      "source": [
        "print(\"Longitud del texto: {}\".format(len(text)))\n",
        "print(text[0:300])"
      ],
      "execution_count": 3,
      "outputs": [
        {
          "output_type": "stream",
          "name": "stdout",
          "text": [
            "Longitud del texto: 300039\n",
            "-i-\n",
            "\n",
            "se me permitirá que antes de referir el gran suceso de que fui testigo,\n",
            "diga algunas palabras sobre mi infancia, explicando por qué extraña\n",
            "manera me llevaron los azares de la vida a presenciar la terrible\n",
            "catástrofe de nuestra marina.\n",
            "\n",
            "al hablar de mi nacimiento, no imitaré a la mayor parte de\n"
          ]
        }
      ]
    },
    {
      "metadata": {
        "id": "bZ7TUXWiyvOj"
      },
      "cell_type": "markdown",
      "source": [
        "## 2. Procesado de los datos"
      ]
    },
    {
      "metadata": {
        "id": "x66_Vi_Gyxns"
      },
      "cell_type": "markdown",
      "source": [
        "Una de las grandes ventajas de trabajar con modelos que utilizan caracteres en vez de palabras es que no necesitamos tokenizar el texto (partirlo palabra a palabra). Nuestro modelo funcionará directamente con los caracteres en el texto, incluyendo espacios, saltos de línea, etc.\n",
        "\n",
        "Antes de hacer nada, necesitamos procesar el texto en entradas y salidas compatibles con nuestro modelo. Como sabemos, un modelo del lenguaje con RNNs acepta una serie de caracteres y predice el siguiente carácter en la secuencia.\n",
        "\n",
        "* \"*Se me permitirá que antes de referir el gr*\" -> predicción: **a**\n",
        "* \"*e me permitirá que antes de referir el gra*\" -> predicción: **n**\n",
        "\n",
        "De modo que la entrada y la salida de nuestro modelo necesita ser algo parecido a este esquema. En este punto, podríamos usar dos formas de preparar los datos para nuestro modelo.\n",
        "\n",
        "1. **Secuencia a secuencia**. La entrada de nuestro modelo sería una secuencia y la salida sería esa secuencia trasladada un caracter a la derecha, de modo que en cada instante de tiempo la RNN tiene que predecir el carácter siguiente. Por ejemplo:\n",
        "\n",
        ">* *Input*:  Se me permitirá que antes de referir el gr\n",
        ">* *Output*: e me permitirá que antes de referir el gra\n",
        "\n",
        "2. **Secuencia a carácter**. En este variante, pasaríamos una secuencia de caracteres por nuestra RNN y, al llegar al final de la secuencia, predeciríamos el siguiente carácter.\n",
        "\n",
        ">* *Input*:  Se me permitirá que antes de referir el gr\n",
        ">* *Output*: a\n",
        "\n",
        "En este laboratorio, por simplicidad, vamos a utilizar la segunda variante (PERO USANDO PALABRAS NO CARACTERES).\n",
        "\n",
        "De este modo, a partir del texto, hemos de generar nuestro propio training data que consista en secuencias de PALABRAS con la siguiente PALABRA a predecir. Para estandarizar las cosas, utilizaremos secuencias de tamaño *SEQ_LENGTH* PALABRAS (un hiperparámetro que podemos elegir nosotros).\n",
        "\n"
      ]
    },
    {
      "metadata": {
        "id": "mkfJUIxW5m5C"
      },
      "cell_type": "markdown",
      "source": [
        "#### 2.1. Obtención de las palabras y mapas de palabras\n",
        "\n",
        "Antes que nada, necesitamos saber qué palabras aparecen en el texto, ya que tendremos que diferenciarlos mediante un índice de 0 a *num_words* - 1 en el modelo. Obtener:\n",
        "\n",
        "\n",
        "1.   Número de caracteres únicos que aparecen en el texto.\n",
        "2.   Diccionario que asocia char a índice único entre 0 y *num_words* - 1. Por ejemplo, {'se': 0, 'me': 1, ...}\n",
        "3.   Diccionario reverso de índices a palabras: {0: 'se', 1: 'me', ...}\n"
      ]
    },
    {
      "metadata": {
        "id": "5bJ0NsbCbupF"
      },
      "cell_type": "code",
      "source": [
        "texto=\"\"\n",
        "for letra in text:\n",
        "  if not letra in \"?¿.,'¡!()-{};[]»«:\\\"\":\n",
        "    texto+=letra\n",
        "  text=texto\n",
        "\n",
        "palabras = text.split()\n",
        "palabras_unicas = set(palabras)\n",
        "word_index = {}\n",
        "k=0\n",
        "for palabra in palabras_unicas:\n",
        "  word_index[palabra] = k\n",
        "  k+=1"
      ],
      "execution_count": 4,
      "outputs": []
    },
    {
      "cell_type": "markdown",
      "source": [
        "Ejecutar una sola vez"
      ],
      "metadata": {
        "id": "njstLgk3GIw-"
      }
    },
    {
      "cell_type": "code",
      "source": [
        "import nltk\n",
        "nltk.download('punkt')"
      ],
      "metadata": {
        "colab": {
          "base_uri": "https://localhost:8080/"
        },
        "id": "ciZLGmPmGEQj",
        "outputId": "ed313a3e-04f4-49f8-9354-47fe74c14d86"
      },
      "execution_count": 5,
      "outputs": [
        {
          "output_type": "stream",
          "name": "stderr",
          "text": [
            "[nltk_data] Downloading package punkt to /root/nltk_data...\n",
            "[nltk_data]   Unzipping tokenizers/punkt.zip.\n"
          ]
        },
        {
          "output_type": "execute_result",
          "data": {
            "text/plain": [
              "True"
            ]
          },
          "metadata": {},
          "execution_count": 5
        }
      ]
    },
    {
      "cell_type": "code",
      "source": [
        "reverse_word_index = dict([(value, key) for (key, value) in word_index.items()])"
      ],
      "metadata": {
        "id": "HVMcdr6UGDTU"
      },
      "execution_count": 6,
      "outputs": []
    },
    {
      "cell_type": "code",
      "source": [
        "len(palabras)"
      ],
      "metadata": {
        "colab": {
          "base_uri": "https://localhost:8080/"
        },
        "id": "sE4afwpjGGtA",
        "outputId": "96741cb0-1ba9-45bc-fd04-1a2040b8c42d"
      },
      "execution_count": 7,
      "outputs": [
        {
          "output_type": "execute_result",
          "data": {
            "text/plain": [
              "51221"
            ]
          },
          "metadata": {},
          "execution_count": 7
        }
      ]
    },
    {
      "metadata": {
        "id": "Y_B4AWo0ElwA"
      },
      "cell_type": "markdown",
      "source": [
        "#### 2.2. Obtención de secuencias de entrada y palabra a predecir\n",
        "\n",
        "Ahora, vamos a obtener las secuencias de entrada en formato texto y las correspondientes palabras a predecir. Para ello, recorrer el texto completo leído anteriormente, obteniendo una secuencia de SEQ_LENGTH palabras y la siguiente palabra a predecir. Una vez hecho, desplazarse una palabra a la derecha y hacer lo mismo para obtener una nueva secuencia y predicción. Guardar las secuencias en una variable ***sequences*** y las palabras a predecir en una variable ***next_words***.\n",
        "\n",
        "Por ejemplo, si el texto fuera \"Don Quijote\" y SEQ_LENGTH fuese 2, tendríamos\n",
        "\n",
        "* *sequences* = [\"Don Quijote\", \"Quijote de\"]\n",
        "* *next_chars* = ['de', 'La']"
      ]
    },
    {
      "metadata": {
        "id": "NslxhnnDK6uA"
      },
      "cell_type": "code",
      "source": [
        "SEQ_LENGTH = 5\n",
        "step=1 # Para que la siguiente sentencia esté desplazada una palabra la izquierda.\n",
        "sequences = []\n",
        "next_words = []"
      ],
      "execution_count": 8,
      "outputs": []
    },
    {
      "metadata": {
        "id": "1Y3AmjYtHdLJ"
      },
      "cell_type": "markdown",
      "source": [
        "Indicar el tamaño del training set que acabamos de generar."
      ]
    },
    {
      "metadata": {
        "id": "WVWqKxFcbwTu"
      },
      "cell_type": "code",
      "source": [
        "for i in range(0,len(palabras)-SEQ_LENGTH, step):\n",
        "  sequences.append(palabras[i:i+SEQ_LENGTH])\n",
        "  next_words.append(palabras[i+SEQ_LENGTH])\n"
      ],
      "execution_count": 9,
      "outputs": []
    },
    {
      "cell_type": "code",
      "source": [
        "sequences[8]"
      ],
      "metadata": {
        "colab": {
          "base_uri": "https://localhost:8080/"
        },
        "id": "WwbfTOtGGZLW",
        "outputId": "a3df96a4-3f56-4b35-8062-4719fc71a26d"
      },
      "execution_count": 10,
      "outputs": [
        {
          "output_type": "execute_result",
          "data": {
            "text/plain": [
              "['el', 'gran', 'suceso', 'de', 'que']"
            ]
          },
          "metadata": {},
          "execution_count": 10
        }
      ]
    },
    {
      "cell_type": "code",
      "source": [
        "next_words[8]"
      ],
      "metadata": {
        "colab": {
          "base_uri": "https://localhost:8080/",
          "height": 36
        },
        "id": "wNZvLhK_GZ7t",
        "outputId": "d4821061-5a5c-4b87-a7ec-f58334f22105"
      },
      "execution_count": 11,
      "outputs": [
        {
          "output_type": "execute_result",
          "data": {
            "text/plain": [
              "'fui'"
            ],
            "application/vnd.google.colaboratory.intrinsic+json": {
              "type": "string"
            }
          },
          "metadata": {},
          "execution_count": 11
        }
      ]
    },
    {
      "metadata": {
        "id": "goGQkKcwpLRJ"
      },
      "cell_type": "markdown",
      "source": [
        "Como el Quijote es muy largo y tenemos muchas secuencias, podríamos encontrar problemas de memoria. Por ello, vamos a elegir un número máximo de ellas. Si estás corriendo esto localmente y tienes problemas de memoria, puedes reducir el tamaño aún más, pero ten cuidado porque, a menos datos, peor calidad del modelo."
      ]
    },
    {
      "metadata": {
        "id": "2pm1Q19ppw8F"
      },
      "cell_type": "code",
      "source": [
        "MAX_SEQUENCES = 376493"
      ],
      "execution_count": 12,
      "outputs": []
    },
    {
      "cell_type": "code",
      "source": [
        "perm = np.random.permutation(len(sequences))\n",
        "sequences, next_words = np.array(sequences), np.array(next_words)\n",
        "sequences, next_words = sequences[perm], next_words[perm]\n",
        "sequences, next_words = list(sequences[:MAX_SEQUENCES]), list(next_words[:MAX_SEQUENCES])\n",
        "\n",
        "print(len(sequences))"
      ],
      "metadata": {
        "colab": {
          "base_uri": "https://localhost:8080/"
        },
        "id": "6bAVNdfEGlwk",
        "outputId": "98fa6d0b-933f-4544-873c-e5c5e9f662dd"
      },
      "execution_count": 13,
      "outputs": [
        {
          "output_type": "stream",
          "name": "stdout",
          "text": [
            "51216\n"
          ]
        }
      ]
    },
    {
      "cell_type": "code",
      "source": [
        "sequences[len(sequences)-1]"
      ],
      "metadata": {
        "colab": {
          "base_uri": "https://localhost:8080/"
        },
        "id": "JR5bwxH1GtUG",
        "outputId": "1f6f5c93-936d-4a3e-c585-eac07a3ad76c"
      },
      "execution_count": 14,
      "outputs": [
        {
          "output_type": "execute_result",
          "data": {
            "text/plain": [
              "array(['oí', 'hablar', 'de', 'cierta', 'academia'], dtype='<U28')"
            ]
          },
          "metadata": {},
          "execution_count": 14
        }
      ]
    },
    {
      "cell_type": "code",
      "source": [
        "next_words[len(sequences)-1]"
      ],
      "metadata": {
        "colab": {
          "base_uri": "https://localhost:8080/",
          "height": 36
        },
        "id": "r0grEPeDGvYx",
        "outputId": "95ac8368-c28d-4a32-c608-bddcc268acce"
      },
      "execution_count": 15,
      "outputs": [
        {
          "output_type": "execute_result",
          "data": {
            "text/plain": [
              "'en'"
            ],
            "application/vnd.google.colaboratory.intrinsic+json": {
              "type": "string"
            }
          },
          "metadata": {},
          "execution_count": 15
        }
      ]
    },
    {
      "cell_type": "code",
      "source": [
        "frases = []\n",
        "for i in range(len(sequences)):\n",
        "  frase = ' '.join(sequences[i])\n",
        "  frases.append(frase)\n",
        "  #Tokenizar las frases\n",
        "newsVec = [nltk.word_tokenize(frase) for frase in frases]"
      ],
      "metadata": {
        "id": "6k0OQaTKG54f"
      },
      "execution_count": 16,
      "outputs": []
    },
    {
      "cell_type": "code",
      "source": [
        "newsVec"
      ],
      "metadata": {
        "id": "OtXO7WaAHBSv",
        "colab": {
          "base_uri": "https://localhost:8080/"
        },
        "outputId": "cdfd0577-e16f-4860-bbaa-8dc6ad0318ac"
      },
      "execution_count": 17,
      "outputs": [
        {
          "output_type": "execute_result",
          "data": {
            "text/plain": [
              "[['sí', 'mismo', 'el', 'retumbante', 'título'],\n",
              " ['sobre', 'el', 'famoso', 'proyecto', 'y'],\n",
              " ['contramaestre', 'marinero', 'artillero', 'carpintero', 'y'],\n",
              " ['causaba', 'la', 'vista', 'de', 'los'],\n",
              " ['terrible', 'que', 'el', 'anterior', 'nos'],\n",
              " ['con', 'una', 'pierna', 'de', 'palo'],\n",
              " ['haber', 'oído', 'un', 'enojoso', 'sermón'],\n",
              " ['ha', 'quedado', 'relegada', 'al', 'olvido'],\n",
              " ['precioso', 'en', 'hacerse', 'el', 'coleto'],\n",
              " ['poca', 'gravedad', 'y', 'aunque', 'una'],\n",
              " ['de', 'diferentes', 'clases', 'con', 'la'],\n",
              " ['tú', 'irás', 'a', 'cádiz', 'tambiéndijo'],\n",
              " ['a', 'él', 'cuántas', 'veces', 'sentía'],\n",
              " ['penas', 'la', 'vergüenza', 'de', 'la'],\n",
              " ['escuadra', 'un', 'hombre', 'más', 'apto'],\n",
              " ['estado', 'de', 'mi', 'vida', 'y'],\n",
              " ['dios', 'una', 'cosa', 'y', 'tú'],\n",
              " ['el', 'navío', '_santa', 'ana_', 'se'],\n",
              " ['a', 'un', 'navío', 'yo', 'le'],\n",
              " ['dignidad', 'de', 'la', 'corona', 'pues'],\n",
              " ['desventuras', 'al', 'año', 'de', 'su'],\n",
              " ['anoche', 'y', 'esta', 'mañana', 'hablándote'],\n",
              " ['guardia', 'marina', 'd', 'alonso', 'butrón'],\n",
              " ['y', 'se', 'fijó', 'en', 'la'],\n",
              " ['creencias', 'la', 'plaza', 'recinto', 'de'],\n",
              " ['rostro', 'pálido', 'espantados', 'los', 'ojos'],\n",
              " ['san', 'juan', 'de', 'dios', 'compré'],\n",
              " ['profundamente', 'su', 'alma', 'capaz', 'de'],\n",
              " ['lámpara', 'encendida', 'al', 'anochecer', 'y'],\n",
              " ['nublado', 'espíritu', 'se', 'aclaró', 'un'],\n",
              " ['verse', 'claro', 'el', 'peligro', 'en'],\n",
              " ['un', 'hombre', 'enfermo', 'y', 'medio'],\n",
              " ['olvidar', 'respecto', 'al', '_santa', 'ana_'],\n",
              " ['la', 'familia', 'd', 'josé', 'maría'],\n",
              " ['su', 'agonía', 'mandaba', 'clavar', 'la'],\n",
              " ['mr', 'corneta', 'no', 'sabe', 'lo'],\n",
              " ['lo', 'más', 'rudo', 'incipiente', 'y'],\n",
              " ['que', 'perder', 'porque', 'el', '_rayo_'],\n",
              " ['que', 'fuera', 'de', 'la', 'bahía'],\n",
              " ['la', 'alegría', 'y', 'frescura', 'de'],\n",
              " ['7000', 'toneladas', 'y', 'el', '_trinidad_'],\n",
              " ['algunos', 'navíos', 'desmantelados', 'y', 'dos'],\n",
              " ['no', 'menos', 'importante', 'de', 'mi'],\n",
              " ['artillería', 'usted', 'no', 'ha', 'oído'],\n",
              " ['mal', 'aquí', 'no', 'pueden', 'ver'],\n",
              " ['como', 'ahora', 'nos', 'visitaban', 'el'],\n",
              " ['mañana', 'siguiente', 'esto', 'alegró', 'mucho'],\n",
              " ['se', 'había', 'abierto', 'al', 'encallar'],\n",
              " ['los', 'ingleses', 'unos', 'a', 'modo'],\n",
              " ['torpemente', 'iluminada', 'por', 'ignoto', 'artista'],\n",
              " ['la', 'saciedad', 'y', 'en', 'el'],\n",
              " ['chicos', 'de', 'lo', 'que', 'mi'],\n",
              " ['en', 'cádiz', 'y', 'pensando', 'después'],\n",
              " ['|', '||', '|', '|', '||'],\n",
              " ['acabó', 'de', 'repente', 'cuando', 'una'],\n",
              " ['bandera', 'flotando', 'en', 'lugar', 'de'],\n",
              " ['entusiasta', 'por', 'todos', 'los', 'hombres'],\n",
              " ['que', 'a', 'bordo', 'de', 'cada'],\n",
              " ['oficiales', 'ingleses', 'que', 'custodiaban', 'el'],\n",
              " ['también', 'nuestras', 'escuadras', 'con', 'rudamente'],\n",
              " ['14', 'estuvo', 'a', 'punto', 'de'],\n",
              " ['ni', 'avemaría', 'sino', 'algo', 'nuevo'],\n",
              " ['a', 'la', 'cámara', 'no', 'había'],\n",
              " ['otros', 'completamente', 'desarbolados', 'la', 'bruma'],\n",
              " ['y', 'medio', 'baldado', 'gabriel', 'irá'],\n",
              " ['a', 'pesar', 'de', 'haber', 'redoblado'],\n",
              " ['nos', 'batiremos', 'salían', 'al', 'mar'],\n",
              " ['mismo', 'marcial', 'sabía', 'a', 'dónde'],\n",
              " ['es', 'verdad', 'era', 'como', 'la'],\n",
              " ['penoles', 'resultó', 'un', 'gran', 'claro'],\n",
              " ['el', 'entendimiento', 'aterido', 'intenta', 'engañarse'],\n",
              " ['colgado', 'y', 'ocupaba', 'su', 'puesto'],\n",
              " ['le', 'cogió', 'la', 'cabeza', 'dejándole'],\n",
              " ['compañía', 'tres', 'o', 'cuatro', 'marineros'],\n",
              " ['y', 'decía', 'a', 'los', 'que'],\n",
              " ['el', 'desastroso', 'encuentro', 'del', 'cabo'],\n",
              " ['pero', 'dios', 'querrá', 'preservarle', 'a'],\n",
              " ['américa', 'gibraltar', 'mahón', 'rusia', 'tolón'],\n",
              " ['los', 'proyectiles', 'enemigos', 'la', 'metralla'],\n",
              " ['no', 'las', 'obedeciéramos', 'porque', 'era'],\n",
              " ['veces', 'no', 'salía', 'del', 'todo'],\n",
              " ['aquella', 'campaña', 'y', 'que', 'todos'],\n",
              " ['demostrándome', 'una', 'vez', 'más', 'la'],\n",
              " ['en', 'que', 'parecían', 'haber', 'puesto'],\n",
              " ['naturaleza', 'se', 'descompone', 'con', 'formidable'],\n",
              " ['antes', 'estaba', 'el', '_victory_', 'éste'],\n",
              " ['unos', 'a', 'modo', 'de', 'salteadores'],\n",
              " ['de', 'luz', 'la', 'magnífica', 'rada'],\n",
              " ['en', 'él', 'estaré', 'hasta', 'que'],\n",
              " ['hombre', 'superior', 'el', '21', 'a'],\n",
              " ['crecimiento', 'de', 'la', 'inundación', 'qué'],\n",
              " ['son', 'juguetes', 'de', 'chicos', 'figúrese'],\n",
              " ['gesto', 'que', 'indicaba', 'mi', 'conformidad'],\n",
              " ['arrastre', 'el', 'resto', 'de', 'sus'],\n",
              " ['herido', 'y', 'me', 'lo', 'entregó'],\n",
              " ['frívolas', 'mi', 'disgusto', 'llegó', 'a'],\n",
              " ['y', 'que', 'las', 'hogueras', 'que'],\n",
              " ['se', 'mostraron', 'caballeros', 'magnánimos', 'y'],\n",
              " ['primero', 'al', '_redoutable_', 'francés', 'y'],\n",
              " ['indica', 'el', 'consorcio', 'fecundo', 'de'],\n",
              " ['aún', 'no', 'aplacadas', 'de', 'mi'],\n",
              " ['con', 'mi', 'mujer', 'y', 'mis'],\n",
              " ['deber', 'como', 'marino', 'mas', 'reponiéndose'],\n",
              " ['mí', 'me', 'nazca', 'otra', 'pierna'],\n",
              " ['va', 'a', 'ser', 'tan', 'buey'],\n",
              " ['se', 'le', 'reformó', 'agradándolo', 'en'],\n",
              " ['poco', 'que', 'tenemos', 'bonitos', 'están'],\n",
              " ['encontrarme', 'a', 'bordo', 'del', '_santísima'],\n",
              " ['aquel', 'cuyos', 'ojos', 'habían', 'visto'],\n",
              " ['deseaba', 'celebrar', 'a', 'bordo', 'del'],\n",
              " ['una', 'bala', 'de', 'medio', 'calibre'],\n",
              " ['no', 'llevándolas', 'a', 'su', 'destino'],\n",
              " ['tranquilos', 'libres', 'de', 'mi', 'enamorada'],\n",
              " ['se', 'le', 'consentían', 'coloquios', 'a'],\n",
              " ['pero', 'villeneuve', 'que', 'estaba', 'decidido'],\n",
              " ['día', 'en', 'que', 'partieron', 'para'],\n",
              " ['fin', 'el', 'permanecer', 'a', 'bordo'],\n",
              " ['por', 'el', 'temporal', 'y', 'que'],\n",
              " ['||', '|', 'r', '|', 'segundo'],\n",
              " ['los', 'prisioneros', 'determiné', 'salir', 'pronto'],\n",
              " ['él', 'despavorido', 'y', 'le', 'dije'],\n",
              " ['materias', '_comestibles_', 'combustibles', 'quería', 'decir'],\n",
              " ['recelosa', 'doña', 'francisca', 'los', 'dejaba'],\n",
              " ['hombre', 'que', 'no', 'nos', 'entrometa'],\n",
              " ['del', 'festín', 'de', 'la', 'boda'],\n",
              " ['arraigada', 'en', 'mi', 'ánimo', 'que'],\n",
              " ['los', 'mares', 'las', 'cámaras', 'situadas'],\n",
              " ['corazón', 'de', 'un', 'niño', 'perdona'],\n",
              " ['de', 'salvar', 'la', 'vida', 'atravesando'],\n",
              " ['partía', 'el', 'corazón', 'según', 'decía'],\n",
              " ['las', 'últimas', 'palabras', 'de', 'su'],\n",
              " ['parecida', 'varones', 'ilustres', 'como', 'éste'],\n",
              " ['perece', 'así', 'terminó', 'aquel', 'diálogo'],\n",
              " ['el', 'primer', 'disparo', 'nos', 'habían'],\n",
              " ['conjeturas', 'sobre', 'los', 'venideros', 'y'],\n",
              " ['gabrielillo', 'abrázate', 'conmigo', 'y', 'apriétate'],\n",
              " ['hacia', 'él', 'para', 'auxiliarle', 'y'],\n",
              " ['aún', 'me', 'parece', 'que', 'le'],\n",
              " ['que', 'tuve', 'que', 'alejarme', 'a'],\n",
              " ['que', 'vociferaba', 'en', 'el', 'patio'],\n",
              " ['de', 'esto', 'y', 'otros', 'asuntos'],\n",
              " ['arrebatado', 'y', 'enérgico', 'siempre', 'propenso'],\n",
              " ['rosita', 'pues', 'ya', 'no', 'había'],\n",
              " ['fin', 'sé', 'que', 'se', 'pondrá'],\n",
              " ['tocaban', 'los', 'hombros', 'las', 'casacas'],\n",
              " ['trinquete', 'ocupando', 'el', 'castillo', 'de'],\n",
              " ['a', 'pesar', 'de', 'la', 'falta'],\n",
              " ['para', 'recorrer', 'lo', 'más', 'pronto'],\n",
              " ['fragata', 'y', 'tras', 'ella', 'conducido'],\n",
              " ['como', 'quien', 'no', 'dice', 'nada'],\n",
              " ['mi', 'infantil', 'inocencia', 'y', 'desconocimiento'],\n",
              " ['cádiz', 'y', 'en', 'tierra', 'venía'],\n",
              " ['y', 'otros', 'personajes', 'importantes', 'que'],\n",
              " ['tienes', 'oh', 'yo', 'no', 'soy'],\n",
              " ['ana_', 'había', 'tenido', 'en', 'el'],\n",
              " ['que', 'si', 'el', 'viento', 'nos'],\n",
              " ['inesperada', 'no', 'podía', 'ser', 'lisonjero'],\n",
              " ['convicción', 'de', 'que', 'un', 'grande'],\n",
              " ['flota', 'enemiga', 'estaban', 'a', 'la'],\n",
              " ['en', 'que', 'toda', 'falta', 'se'],\n",
              " ['cuán', 'vehemente', 'era', 'su', 'deseo'],\n",
              " ['aun', 'ahora', 'me', 'parece', 'que'],\n",
              " ['sus', 'ligeras', 'piernas', 'bailando', 'la'],\n",
              " ['pena', 'y', 'de', 'miedo', 'cuando'],\n",
              " ['es', 'que', 'todos', 'los', 'marinos'],\n",
              " ['principiaba', 'a', 'amanecer', 'ya', 'los'],\n",
              " ['ejecución', 'tan', 'atrevido', 'pensamiento', 'acompañado'],\n",
              " ['reformó', 'agradándolo', 'en', '1796', 'se'],\n",
              " ['aliento', 'está', 'usted', 'heridodije', 'llamaré'],\n",
              " ['en', 'mis', 'soliloquios', 'probaba', 'con'],\n",
              " ['parecía', 'tan', 'alegre', 'como', 'de'],\n",
              " ['la', 'cintura', 'luego', 'como', 'si'],\n",
              " ['así', 'pero', 'd', 'rafael', 'no'],\n",
              " ['de', 'mí', 'la', 'singular', 'expresión'],\n",
              " ['y', 'soñó', 'que', 'se', 'hallaba'],\n",
              " ['todos', 'somos', 'hijos', 'de', 'dios'],\n",
              " ['de', 'sus', 'manos', 'ello', 'es'],\n",
              " ['se', 'asocia', 'a', 'nuestra', 'existencia'],\n",
              " ['insistió', 'en', 'que', 'debía', 'quedarme'],\n",
              " ['de', 'la', 'casa', 'barruntos', 'de'],\n",
              " ['ha', 'contado', 'qué', 'daño', 'nos'],\n",
              " ['de', 'la', 'pelea', 'estábamos', 'libres'],\n",
              " ['nos', 'dejan', 'hacer', 'lo', 'que'],\n",
              " ['valía', 'algunas', 'reprimendas', 'estuvo', 'aquella'],\n",
              " ['a', 'malespina', 'con', 'gozo', 'porque'],\n",
              " ['rapidísimo', 'le', 'vi', 'esforzándose', 'por'],\n",
              " ['nuestros', 'enemigos', 'es', 'inmejorable', 'compuesto'],\n",
              " ['imposible', 'de', 'realizar', 'en', 'las'],\n",
              " ['si', 'no', 'les', 'explico', 'que'],\n",
              " ['de', 'sus', 'costados', 'mirándolos', 'mi'],\n",
              " ['la', 'niñez', 'el', '_santísima', 'trinidad_'],\n",
              " ['raro', 'el', 'que', 'no', 'salió'],\n",
              " ['busca', 'el', 'peligro', 'en', 'él'],\n",
              " ['todos', 'los', 'semblantes', 'cierta', 'expresión'],\n",
              " ['de', 'inglaterra', 'esta', 'opinión', 'que'],\n",
              " ['de', 'su', 'residencia', 'pues', 'sólo'],\n",
              " ['aquel', 'día', 'no', 'me', 'hubiera'],\n",
              " ['sustentaban', 'cuatro', 'pisos', 'en', 'sus'],\n",
              " ['flora', 'y', 'mi', 'amo', 'hicieron'],\n",
              " ['cuando', 'decía', 'y', 'ella', 'tan'],\n",
              " ['que', 'la', 'habíamos', 'de', 'perder'],\n",
              " ['comprendiendo', 'que', 'la', 'destreza', 'había'],\n",
              " ['el', 'sol', 'avanzaba', 'hacia', 'el'],\n",
              " ['pieza', 'ha', 'quedado', 'relegada', 'al'],\n",
              " ['creía', 'que', 'la', 'grandeza', 'de'],\n",
              " ['me', 'disculpé', 'diciendo', 'que', 'me'],\n",
              " ['me', 'parece', 'que', 'ya', 'os'],\n",
              " ['siempre', 'jamás', 'amén', 'a', 'ver'],\n",
              " ['lanzado', 'al', 'mar', 'y', 'se'],\n",
              " ['el', 'alma', 'si', 'se', 'me'],\n",
              " ['causar', 'anunciando', 'la', 'muerte', 'del'],\n",
              " ['los', 'estallidos', 'de', 'los', 'baos'],\n",
              " ['mí', 'la', 'singular', 'expresión', 'de'],\n",
              " ['a', 'almirantes', 'en', 'estas', 'encerronas'],\n",
              " ['con', 'frecuencia', 'de', 'boca', 'de'],\n",
              " ['no', 'le', 'haré', 'caso', 'qué'],\n",
              " ['en', 'que', 'estaba', 'mediohombre', 'y'],\n",
              " ['como', 'cuando', 'fuiste', 'a', 'la'],\n",
              " ['por', 'la', 'leva', 'y', 'los'],\n",
              " ['de', 'tu', 'obstinación', 'en', 'ir'],\n",
              " ['yo', 'no', 'obstante', 'haber', 'vivido'],\n",
              " ['mi', 'espíritu', 'aunque', 'mi', 'memoria'],\n",
              " ['que', 'era', 'el', 'más', 'pesado'],\n",
              " ['miedo', 'y', 'me', 'sentí', 'con'],\n",
              " ['debe', 'hacerlo', 'lástima', 'esdije', 'yo'],\n",
              " ['que', 'no', 'mataron', 'ni', 'tanto'],\n",
              " ['hasta', 'que', 'no', 'les', 'dejase'],\n",
              " ['aspecto', 'muy', 'distinto', 'del', 'que'],\n",
              " ['de', 'un', 'enemigo', 'poderoso', 'cuando'],\n",
              " ['y', 'alegría', 'soy', 'joven', 'el'],\n",
              " ['hace', 'veinte', 'años', 'que', 'no'],\n",
              " ['se', 'habían', 'lanzado', 'al', 'mar'],\n",
              " ['acompañado', 'del', '_san', 'justo_', 'el'],\n",
              " ['este', 'gabacho', 'tiene', 'un', 'peluquero'],\n",
              " ['escuadra', 'en', 'cuatro', 'cuerpos', 'la'],\n",
              " ['de', 'estas', 'fue', 'a', 'estamparse'],\n",
              " ['desahogó', 'su', 'furor', 'en', 'mi'],\n",
              " ['coraza', 'como', 'las', 'que', 'usaban'],\n",
              " ['caer', 'la', 'imaginación', 'no', 'puede'],\n",
              " ['que', 'huían', 'en', 'las', 'lanchas'],\n",
              " ['las', 'blasfemias', 'de', 'los', 'combatientes'],\n",
              " ['en', 'mi', 'cerebro', 'entra', 'de'],\n",
              " ['golpea', 'el', 'buque', 'con', 'blando'],\n",
              " ['curó', 'y', 'como', 'malespina', 'fuese'],\n",
              " ['me', 'agarré', 'fuertemente', 'al', 'cuerpo'],\n",
              " ['di', 'la', 'noticia', 'cuando', 'una'],\n",
              " ['o', 'preeminencia', 'superior', 'a', 'la'],\n",
              " ['obedientes', 'al', 'hombre', 'sino', 'como'],\n",
              " ['no', 'tardó', 'en', 'brillar', 'con'],\n",
              " ['n', 'del', 'e', 'los', 'presentes'],\n",
              " ['del', 'mismo', 'emperador', 'de', 'trapisonda'],\n",
              " ['añadió', 'un', 'cirujano', 'que', 'había'],\n",
              " ['de', 'militar', 'y', 'de', 'marino'],\n",
              " ['yo', 'no', 'sé', 'lo', 'que'],\n",
              " ['de', 'la', 'línea', 'lo', 'complicado'],\n",
              " ['que', 'se', 'lo', 'llevarán', 'a'],\n",
              " ['cito', 'estos', 'cuatro', 'detalles', 'heterogéneos'],\n",
              " ['grandes', 'sensaciones', 'se', 'levanta', 'lázaro'],\n",
              " ['este', 'año', 'fue', 'por', '_aquél_'],\n",
              " ['don', 'alonso', 'al', 'cual', 'acompañaba'],\n",
              " ['con', 'orgullo', 'que', 'hice', 'esfuerzos'],\n",
              " ['que', 'aguardaba', 'a', 'mi', 'infeliz'],\n",
              " ['la', 'enfermería', 'y', 'algunos', 'medicamentos'],\n",
              " ['rudo', 'incipiente', 'y', 'soez', 'que'],\n",
              " ['pecho', 'y', 'se', 'fijó', 'en'],\n",
              " ['entre', 'los', 'dos', 'navíos', 'al'],\n",
              " ['pecho', 'como', 'dolor', 'adormecido', 'que'],\n",
              " ['habiendo', 'vencido', 'mi', 'naturaleza', 'juvenil'],\n",
              " ['el', 'cual', 'de', 'regreso', 'a'],\n",
              " ['y', 'endemoniado', 'genio', 'que', 'he'],\n",
              " ['ocasión', 'no', 'había', 'tiempo', 'para'],\n",
              " ['indicando', 'que', 'la', 'cosa', 'era'],\n",
              " ['errátil', 'y', 'voluble', 'su', 'andar'],\n",
              " ['grandes', 'aplausos', 'todos', 'asintieron', 'a'],\n",
              " ['ella', 'para', 'llevarse', 'pedazos', 'de'],\n",
              " ['madrid', 'y', 'como', 'godoy', 'no'],\n",
              " ['los', 'trozos', 'de', 'velamen', 'los'],\n",
              " ['de', 'unas', 'y', 'otras', 'islas'],\n",
              " ['me', 'prodigó', 'con', 'toda', 'largueza'],\n",
              " ['la', 'clase', 'de', 'voluntarios', 'pero'],\n",
              " ['para', 'abrazar', 'al', 'pobre', 'viejo'],\n",
              " ['la', 'concedieron', 'me', 'acuerdo', 'de'],\n",
              " ['yo', 'dejara', 'de', 'matar', 'bastante'],\n",
              " ['no', 'volverán', 'a', 'ocurrir', 'desastres'],\n",
              " ['la', 'batalla', 'de', 'masdeu', 'por'],\n",
              " ['pies', 'fueron', 'arrojados', 'al', 'mar'],\n",
              " ['se', 'os', 'calientan', 'las', 'pajarillas'],\n",
              " ['quiso', 'que', 'saliera', 'vivo', 'de'],\n",
              " ['olvidar', 'sus', 'faltas', 'yo', 'me'],\n",
              " ['que', 'no', 'cobran', 'sus', 'pagas'],\n",
              " ['el', 'diablo', 'con', 'él', 'ya'],\n",
              " ['consagrando', 'algunas', 'palabras', 'a', 'las'],\n",
              " ['la', 'matrícula', 'o', 'enganche', 'voluntario'],\n",
              " ['ánimo', 'que', 'no', 'pude', 'menos'],\n",
              " ['que', 'incapaz', 'de', 'maniobra', 'fluctuaba'],\n",
              " ['ver', 'cómodamente', 'el', 'combate', 'el'],\n",
              " ['cruzó', 'como', 'un', 'problema', 'terrible'],\n",
              " ['esto', 'parecía', 'disgustar', 'mucho', 'a'],\n",
              " ['instante', 'mismo', 'en', 'que', 'se'],\n",
              " ['en', 'aquel', 'momento', 'terrible', 'y'],\n",
              " ['retratista', 'no', 'puedo', 'decir', 'si'],\n",
              " ['que', 'se', 'pondrá', 'furiosa', 'cuando'],\n",
              " ['estaban', 'ellos', 'en', 'su', 'conferencia'],\n",
              " ['se', 'acabó', 'cuando', 'abrí', 'los'],\n",
              " ['de', 'la', 'suerte', 'era', 'bien'],\n",
              " ['cartuchería', 'y', 'con', 'su', 'voz'],\n",
              " ['ahí', 'están', 'gravina', 'valdés', 'cisneros'],\n",
              " ['estrago', 'positivo', 'en', 'los', 'enemigos'],\n",
              " ['el', 'encargo', 'de', 'acompañarles', 'como'],\n",
              " ['dejaban', 'transparentar', 'las', 'gasas', 'todo'],\n",
              " ['naciones', 'siembran', 'la', 'discordia', 'fomentan'],\n",
              " ['a', 'bordo', 'que', 'en', 'tierra'],\n",
              " ['niños', 'venían', 'por', 'encargo', 'empaquetados'],\n",
              " ['estar', 'allí', 'noté', 'un', 'fenómeno'],\n",
              " ['mis', 'oídos', 'obligándome', 'a', 'transmitirlo'],\n",
              " ['que', 'mi', 'agobiado', 'cuerpo', 'exigía'],\n",
              " ['por', 'ser', 'tipo', 'que', 'lo'],\n",
              " ['sin', 'salir', 'de', 'aquel', 'estado'],\n",
              " ['fiebre', 'del', 'raciocinar', 'y', 'sobre'],\n",
              " ['mi', 'vida', 'entera', 'pues', 'aguardad'],\n",
              " ['vida', 'era', 'la', 'historia', 'de'],\n",
              " ['señor', 'de', 'bonaparte', 'ninguno', 'de'],\n",
              " ['y', 'habrían', 'perecido', 'si', 'los'],\n",
              " ['doña', 'francisca', 'iv', 'señor', 'marcialdijo'],\n",
              " ['hasta', 'que', 'se', 'embarcó', 'en'],\n",
              " ['qué', 'consistía', 'la', 'diferencia', 'pero'],\n",
              " ['carta', 'alguna', 'siendo', 'inútiles', 'todas'],\n",
              " ['la', 'felicidad', 'a', 'muchos', 'corazones'],\n",
              " ['pero', 'gravina', 'gravina', 'qué', 'es'],\n",
              " ['espíritu', 'alegría', 'o', 'tristeza', 'estas'],\n",
              " ['rodillas', 'más', 'de', 'una', 'hora'],\n",
              " ['santa', 'ana', 'de', 'murillo', 'y'],\n",
              " ['muchas', 'las', 'personas', 'que', 'vestían'],\n",
              " ['me', 'confundió', 'tanto', 'como', 'la'],\n",
              " ['las', 'calles', 'con', 'gran', 'ansiedad'],\n",
              " ['mí', 'me', 'lo', 'parecía', 'desde'],\n",
              " ['la', 'cual', 'me', 'habría', 'hecho'],\n",
              " ['aquella', 'trapisonda', 'no', 'vimos', 'que'],\n",
              " ['de', 'tan', 'terribles', 'momentos', 'hubo'],\n",
              " ['con', 'los', 'collares', 'de', 'los'],\n",
              " ['veía', 'la', 'barba', 'porque', 'la'],\n",
              " ['crecía', 'ella', 'más', 'ante', 'mis'],\n",
              " ['su', 'trabajosa', 'y', 'dilatada', 'carrera'],\n",
              " ['este', 'combate', 'moral', 'vi', 'a'],\n",
              " ['marido', 'escribe', 'a', 'gravina', 'diciéndole'],\n",
              " ['y', 'a', 'pesar', 'de', 'la'],\n",
              " ['que', 'no', 'la', 'armara', 'es'],\n",
              " ['mar', 'son', 'más', 'tristes', 'que'],\n",
              " ['el', 'rencorcillo', 'que', 'me', 'inspiraba'],\n",
              " ['qué', 'ha', 'de', 'faltar', 'el'],\n",
              " ['arriesgaba', 'a', 'ver', 'desde', 'los'],\n",
              " ['mancha', 'a', 'la', 'europa', 'central'],\n",
              " ['cabeza_', 'que', 'mandaba', 'don', 'antonio'],\n",
              " ['considerábamos', 'rivales', 'y', 'a', 'veces'],\n",
              " ['caza', 'a', 'los', 'navíos', 'ingleses'],\n",
              " ['vencedor', 'se', 'presentó', 'en', 'casa'],\n",
              " ['se', 'veía', 'obligado', 'a', 'combatir'],\n",
              " ['vuelva', 'a', 'pasar', 'es', 'acaso'],\n",
              " ['*', '*', '*', 'aquí', 'terminó'],\n",
              " ['natural', 'su', 'intempestivo', 'cariño', 'sus'],\n",
              " ['cuyos', 'generales', 'le', 'entregaban', 'su'],\n",
              " ['desde', 'que', 'se', 'hicieron', 'esos'],\n",
              " ['otras', 'algún', 'pedazo', 'de', 'tierra'],\n",
              " ['les', 'llevan', 'los', 'dos', 'viejos'],\n",
              " ['oficiales', 'y', 'marineros', 'con', 'su'],\n",
              " ['de', 'un', 'modo', 'apremiante', 'sus'],\n",
              " ['es', 'que', 'en', 'el', 'rescate'],\n",
              " ['quería', 'significar', 'marcial', 'una', 'acción'],\n",
              " ['oficial', 'cien', 'varas', 'el', '_trinidad_'],\n",
              " ['collares', 'de', 'los', 'indios', 'me'],\n",
              " ['la', 'mole', 'confusa', 'de', 'un'],\n",
              " ['por', 'armas', 'enemigas', 'de', 'diferentes'],\n",
              " ['medio', 'despierta', 'tocando', 'a', 'misa'],\n",
              " ['y', 'se', 'colocara', 'entre', 'nuestros'],\n",
              " ['pirotécnicas', 'enlazadas', 'por', 'una', 'mecha'],\n",
              " ['marcial', 'designó', 'siete', 'de', 'tres'],\n",
              " ['cerca', 'el', 'general', 'mandó', 'hacer'],\n",
              " ['común', 'todos', 'eran', 'de', 'leva'],\n",
              " ['contento', 'como', 'unas', 'pascuas', 'danzando'],\n",
              " ['en', 'la', 'iglesia', 'no', 'cesaba'],\n",
              " ['la', 'guerra', 'mas', 'godoy', 'que'],\n",
              " ['francés', 'el', 'cual', 'de', 'regreso'],\n",
              " ['con', 'aflicción', 'mi', 'amo', 'y'],\n",
              " ['humo', 'dejando', 'ver', 'las', 'banderas'],\n",
              " ['frecuencia', 'me', 'lo', 'figuraba', 'caballero'],\n",
              " ['ante', 'mí', 'no', 'había', 'más'],\n",
              " ['un', 'sentimiento', 'indefinible', 'mezcla', 'de'],\n",
              " ['conforme', 'a', 'mi', 'costumbre', 'algunas'],\n",
              " ['nota', '7murió', 'en', 'marzo', 'de'],\n",
              " ['será', 'glorioso', 'glorioso', 'sícontestó', 'malespina'],\n",
              " ['algunas', 'cáscaras', 'de', 'frutas', 'lanzadas'],\n",
              " ['propicia', 'después', 'de', 'tantas', 'desgracias'],\n",
              " ['demás', 'prefirió', 'con', 'todo', 'dar'],\n",
              " ['no', 'imitaré', 'a', 'la', 'mayor'],\n",
              " ['debilidad', 'de', 'su', 'espíritu', 'que'],\n",
              " ['a', 'bordo', 'del', '_santa', 'ana_'],\n",
              " ['auxiliarnos', 'el', '_rayo_', 'y', 'el'],\n",
              " ['cuales', 'había', 'cuatro', 'pertenecientes', 'al'],\n",
              " ['prueba', 'que', 'comprende', 'y', 'aprecia'],\n",
              " ['diré', 'que', 'aquello', 'me', 'hizo'],\n",
              " ['del', '_trinidad_', 'las', 'del', '_pince_'],\n",
              " ['o', 'de', 'inglaterra', 'y', 'me'],\n",
              " ['malespina', 'había', 'herido', 'mortalmente', 'a'],\n",
              " ['allí', 'también', 'pero', 'qué', 'singulares'],\n",
              " ['como', 'nuestra', 'línea', 'era', 'tan'],\n",
              " ['de', 'mis', 'pulmones', 'entonces', 'paréceme'],\n",
              " ['y', 'nos', 'echó', 'una', 'arenga'],\n",
              " ['de', 'estar', 'vivo', 'en', 'alguna'],\n",
              " ['medio', 'del', 'a', 'que', 'no'],\n",
              " ['su', 'compañero', 'de', 'nuestras', 'balas'],\n",
              " ['pesadumbre', 'de', 'los', 'años', 'aligerando'],\n",
              " ['cerca', 'pero', 'no', 'recuerdo', 'bien'],\n",
              " ['mi', 'espíritu', 'alegría', 'o', 'tristeza'],\n",
              " ['asido', 'al', 'brazo', 'de', 'mi'],\n",
              " ['espesa', 'blancura', 'que', 'las', 'miradas'],\n",
              " ['ser', 'que', 'si', 'el', 'viento'],\n",
              " ['siempre', 'la', 'lancha', 'se', 'alejó'],\n",
              " ['rafael', 'para', 'que', 'vuelva', 'sano'],\n",
              " ['hombres', 'a', 'éstos', 'se', 'lo'],\n",
              " ['poniéndole', 'por', 'genio', 'tutelar', 'o'],\n",
              " ['gloria', 'volverán', 'a', 'casa', 'con'],\n",
              " ['superchería', 'de', 'la', 'imaginación', 'como'],\n",
              " ['se', 'hallaba', 'rota', 'por', 'varios'],\n",
              " ['cuarteles', 'no', 'he', 'podido', 'menos'],\n",
              " ['tal', 'acierto', 'que', 'casi', 'se'],\n",
              " ['lucha', 'con', 'encarnizamiento', 'entre', 'grupos'],\n",
              " ['puede', 'vencerlos', 'por', 'último', 'después'],\n",
              " ['una', 'bala', 'atada', 'a', 'los'],\n",
              " ['las', 'balas', 'de', 'cañón', 'de'],\n",
              " ['sur', 'por', 'la', 'noche', 'no'],\n",
              " ['he', 'muerto', 'ya', 'se', 'conocía'],\n",
              " ['alianza', 'con', 'francia', 'nos', 'está'],\n",
              " ['que', 'vaya', 'en', 'buen', 'hora'],\n",
              " ['lo', 'mismo', 'de', 'que', 'fui'],\n",
              " ['acudido', 'en', 'nuestro', 'auxilio', 'estos'],\n",
              " ['gravina', 'gravina', 'qué', 'es', 'de'],\n",
              " ['ana_', 'me', 'refugié', 'con', 'mi'],\n",
              " ['todo', 'por', 'la', 'unidad', 'con'],\n",
              " ['cámara', 'encontré', 'a', 'mi', 'señor'],\n",
              " ['no', 'ser', 'vistos', 'nos', 'subimos'],\n",
              " ['aquellos', 'cadáveres', 'no', 'sé', 'qué'],\n",
              " ['puse', 'el', 'pie', 'en', 'el'],\n",
              " ['creí', 'que', 'el', 'príncipe', 'de'],\n",
              " ['de', 'gallardearme', 'con', 'los', 'marineros'],\n",
              " ['apuntado', 'tan', 'bien', 'aquellos', 'cañones'],\n",
              " ['barómetro', 'anuncia', 'mal', 'tiempo', 'no'],\n",
              " ['que', 'le', 'den', 'la', 'última'],\n",
              " ['curioso', 'observar', 'cómo', 'fraternizaban', 'amparándose'],\n",
              " ['era', 'el', 'efecto', 'que', 'para'],\n",
              " ['pues', 'a', 'fe', 'que', 'merece'],\n",
              " ['un', 'buen', 'rato', 'darme', 'cuenta'],\n",
              " ['sepulcro', 'y', 'considerándome', 'el', 'más'],\n",
              " ['cubiertos', 'de', 'gloria', 'decir', 'a'],\n",
              " ['padre', 'suspendió', 'la', 'sarta', 'de'],\n",
              " ['inglaterra', 'y', 'francia', 'volvieron', 'a'],\n",
              " ['_señorito_continuó', 'mediohombre', 'traerá', 'muchos', 'también'],\n",
              " ['cómo', 'creen', 'ustedes', 'que', 'yo'],\n",
              " ['en', 'mi', 'cabeza', 'y', 'nada'],\n",
              " ['de', 'las', 'aguas', 'fue', 'sin'],\n",
              " ['tiempo', 'el', 'gran', 'ejército', 'desde'],\n",
              " ['el', 'semblante', 'de', 'mi', 'señorita'],\n",
              " ['al', 'flojo', 'andar', 'de', 'd'],\n",
              " ['hombre', 'de', 'estudio', 'y', 'su'],\n",
              " ['llevar', 'lo', 'poco', 'que', 'tenemos'],\n",
              " ['ver', 'hechos', 'picadillo', 'pero', 'pues'],\n",
              " ['los', 'cuatro', 'navíos', 'que', 'se'],\n",
              " ['quién', 'podía', 'salvar', 'el', 'espacio'],\n",
              " ['y', 'uriarte', 'quedó', 'al', 'fin'],\n",
              " ['de', 'asilo', 'me', 'obligaron', 'a'],\n",
              " ['en', 'un', 'tiempo', 'lo', 'más'],\n",
              " ['el', 'cual', 'no', 'tenía', 'parentesco'],\n",
              " ['y', 'llevados', 'en', 'pequeño', 'círculo'],\n",
              " ['mi', 'amo', 'le', 'secundase', 'en'],\n",
              " ['bochorno', 'de', 'hallarse', 'prisioneros', 'un'],\n",
              " ['churruca', 'era', 'hombre', 'religioso', 'porque'],\n",
              " ['me', 'ha', 'puesto', 'delante', 'la'],\n",
              " ['aquella', 'ocasión', 'no', 'había', 'tiempo'],\n",
              " ['el', 'cual', 'tenía', 'mi', 'cabeza'],\n",
              " ['tenía', 'las', 'velas', 'con', 'más'],\n",
              " ['que', 'entonces', 'no', 'comprendía', 'lo'],\n",
              " ['cercanos', 'a', 'la', 'muerte', 'él'],\n",
              " ['sanos', 'se', 'salvaron', 'algunos', 'entre'],\n",
              " ['recuerdo', 'sigamos', 'ahora', 'doña', 'francisca'],\n",
              " ['salido', 'otra', 'balandra', 'a', 'reconocer'],\n",
              " ['sienes', 'del', 'jefe', 'de', 'la'],\n",
              " ['obligó', 'a', 'salir', 'a', 'los'],\n",
              " ['no', 'cesaba', 'de', 'gruñir', 'llegada'],\n",
              " ['hechos', 'de', 'mi', 'mocedad', 'estrecho'],\n",
              " ['observando', 'atentamente', 'las', 'facciones', 'mutiladas'],\n",
              " ['que', 'el', 'viento', 'no', 'había'],\n",
              " ['se', 'estuvieron', 'batiendo', 'el', 'uno'],\n",
              " ['amigo', 'nelson', 'herido', 'mortalmente', 'en'],\n",
              " ['datos', 'y', 'noticias', 'históricas', 'he'],\n",
              " ['la', 'que', 'se', 'armó', 'a'],\n",
              " ['luz', 'que', 'ilumina', 'y', 'da'],\n",
              " ['él', 'cuántas', 'veces', 'sentía', 'tentaciones'],\n",
              " ['de', 'empezar', 'un', 'combate', 'las'],\n",
              " ['la', 'risa', 'de', 'hierro', 'sí'],\n",
              " ['por', 'estar', 'demasiado', 'cerca', 'no'],\n",
              " ['oculta', 'entre', 'las', 'manos', 'en'],\n",
              " ['un', 'instante', 'parecía', 'que', 'intentaban'],\n",
              " ['primeras', 'pajas', 'había', 'ayudado', 'a'],\n",
              " ['y', 'después', 'de', 'un', 'espantoso'],\n",
              " ['y', 'tras', 'él', 'el', 'de'],\n",
              " ['así', 'me', 'parece', 'que', 'está'],\n",
              " ['estupendo', 'embuste', 'del', 'viejo', 'malespina'],\n",
              " ['aquélla', 'era', 'entusiasta', 'por', 'todos'],\n",
              " ['lo', 'que', 'no', 'fuera', 'el'],\n",
              " ['que', 'elevé', 'el', 'pensamiento', 'a'],\n",
              " ['anda', 'anda', 'a', 'la', 'escuadra'],\n",
              " ['que', 'las', 'tomaban', 'también', 'los'],\n",
              " ['creciendo', 'y', 'nuestros', 'juegos', 'no'],\n",
              " ['presenciar', 'el', 'próximo', 'combate', 'ya'],\n",
              " ['no', 'deseaba', 'otra', 'cosa', 'nuestra'],\n",
              " ['que', 'nos', 'eran', 'propias', 'comprábamos'],\n",
              " ['vi', 'algunos', 'que', 'sentían', 'el'],\n",
              " ['proyectiles', 'enemigos', 'la', 'metralla', 'inglesa'],\n",
              " ['esto', 'le', 'afeara', 'antes', 'bien'],\n",
              " ['algún', 'tiempo', 'no', 'tengo', 'presente'],\n",
              " ['deseo', 'de', 'salir', 'nos', 'opusimos'],\n",
              " ['la', 'misteriosa', 'atracción', 'del', 'mar'],\n",
              " ['demás', 'lanchas', 'y', 'las', 'luces'],\n",
              " ['una', 'amistad', 'antigua', 'contestó', 'd'],\n",
              " ['lo', 'ha', 'sidooh', 'está', 'usted'],\n",
              " ['desgraciado', 'por', 'último', 'más', 'pudo'],\n",
              " ['san', 'fernando', 'como', 'nunca', 'pude'],\n",
              " ['tenemos', 'a', 'bordo', 'son', 'de'],\n",
              " ['que', 'le', 'estoy', 'viendo', 'la'],\n",
              " ['que', 'todos', 'dijeron', 'cuando', 'marcial'],\n",
              " ['remedando', 'en', 'sus', 'balcones', 'y'],\n",
              " ['el', 'brazo', 'y', 'a', 'su'],\n",
              " ['proa', 'observaban', 'los', 'navíos', 'sotaventados'],\n",
              " ['la', 'ventura', 'a', 'merced', 'de'],\n",
              " ['cuando', 'yo', 'estuve', 'en', 'aragón'],\n",
              " ['bondad', 'yo', 'hubiera', 'corrido', 'a'],\n",
              " ['apodo', 'de', '_monsieur', 'corneta_', 'nombre'],\n",
              " ['mi', 'amo', 'de', 'un', 'buen'],\n",
              " ['en', 'un', 'caballo', 'verde', 'esto'],\n",
              " ['cargamos', 'de', 'nuevo', 'la', 'andanada'],\n",
              " ['no', 'considero', 'como', 'ingénito', 'aquel'],\n",
              " ['inglesa', 'con', 'todos', 'sus', 'nelsones'],\n",
              " ['a', 'la', 'expedición', 'de', 'áfrica'],\n",
              " ['de', 'dios', 'prometo', 'la', 'bienaventuranza'],\n",
              " ['postrada', 'con', 'no', 'sé', 'qué'],\n",
              " ['héroes', 'de', 'encrucijada', 'y', 'no'],\n",
              " ['aquella', 'ocasión', 'ante', 'aquel', 'espectáculo'],\n",
              " ['sistema', 'de', 'luchas', 'parciales', 'adoptado'],\n",
              " ['todo', 'su', 'orgullo', 'en', 'conocer'],\n",
              " ['su', 'rostro', 'se', 'puso', 'más'],\n",
              " ['nos', 'acercó', 'por', 'la', 'proa'],\n",
              " ['personal', 'y', 'animado', 'se', 'me'],\n",
              " ['ardiente', 'declamación', 'de', 'mi', 'ama'],\n",
              " ['estuvo', 'bueno', 'aunque', 'eso', 'no'],\n",
              " ['en', 'el', 'combate', 'concluida', 'la'],\n",
              " ['que', 'aún', 'le', 'sostenía', 'cómo'],\n",
              " ['bordo', 'del', '_rayo_', 'donde', 'me'],\n",
              " ['habitación', 'inmediata', 'anunciaba', 'que', 'marcial'],\n",
              " ['si', 'el', 'rey', 'de', 'las'],\n",
              " ['antigua', 'contestó', 'd', 'alonso', 'a'],\n",
              " ['usted', 'que', 'para', 'mover', 'esa'],\n",
              " ['el', 'viento', 'poco', 'después', 'de'],\n",
              " ['de', 'honor', 'si', 'antes', 'no'],\n",
              " ['viajes', 'a', 'la', 'escuela', 'para'],\n",
              " ['alazanes', 'que', 'viniendo', 'tras', 'nosotros'],\n",
              " ['marino', 'si', 'no', 'me', 'temo'],\n",
              " ['la', 'inmensa', 'madeja', 'que', 'formaban'],\n",
              " ['la', 'sangre', 'que', 'la', 'demacración'],\n",
              " ['casco', 'acribillado', 'y', 'comenzaba', 'a'],\n",
              " ['estaban', 'charlando', 'horas', 'y', 'más'],\n",
              " ['donde', 'se', 'precipitó', 'el', '_temerary_'],\n",
              " ['madera', 'se', 'habían', 'abierto', 'al'],\n",
              " ['tercera', 'vez', 'y', 'el', 'ruido'],\n",
              " ['tan', 'mal', 'a', 'los', 'que'],\n",
              " ['humano', 'linaje', 'pues', 'en', 'mi'],\n",
              " ['parte', 'de', 'los', 'buques', 'aunque'],\n",
              " ['perdida', 'la', 'acción', 'con', 'tan'],\n",
              " ['es', 'preciso', 'que', 'cada', 'cual'],\n",
              " ['tenido', 'un', '_farol_', 'como', 'un'],\n",
              " ['la', 'noche', 'y', 'saca', 'de'],\n",
              " ['se', 'hallaba', 'en', 'buen', 'estado'],\n",
              " ['diciendo', 'que', 'si', 'la', 'acción'],\n",
              " ['hablar', 'cayó', 'muerto', 'a', 'los'],\n",
              " ['un', 'hombre', 'tonto', 'no', 'es'],\n",
              " ['y', 'marinos', 'a', 'merced', 'de'],\n",
              " ['yo', 'voy', 'también', 'yo', 'también'],\n",
              " ['fue', 'a', 'parís', 'la', 'convención'],\n",
              " ['se', 'cuidó', 'de', 'disimular', 'su'],\n",
              " ['y', 'dijo', 'no', 'puedo', 'más'],\n",
              " ['casco', 'rendido', 'de', 'cansancio', 'y'],\n",
              " ['mayormente', 'desde', 'que', 'supe', 'el'],\n",
              " ['a', 'ser', 'relevado', 'le', 'induce'],\n",
              " ['unos', 'de', 'otros', 'mas', 'habiéndose'],\n",
              " ['y', 'con', 'la', 'debilitada', 'vista'],\n",
              " ['ana_', 'vivió', 'once', 'años', 'más'],\n",
              " ['del', '_trinidad_', 'volvieron', 'a', 'la'],\n",
              " ['parís', 'la', 'convención', 'le', 'condenó'],\n",
              " ['los', 'ojos', 'a', 'todos', 'lados'],\n",
              " ['montaña', 'líquida', 'que', 'le', 'quebranta'],\n",
              " ['grupos', 'uno', 'se', 'dirigía', 'hacia'],\n",
              " ['salir', 'dejando', 'solo', 'a', 'aquel'],\n",
              " ['era', 'para', 'mí', 'la', 'mayor'],\n",
              " ['fin', 'acompañado', 'de', 'un', 'marinero'],\n",
              " ['pequeña', 'falta', 'pero', 'su', 'mucho'],\n",
              " ['separaba', 'esto', 'pareció', 'casi', 'imposible'],\n",
              " ['los', 'violentos', 'balances', 'del', 'buque'],\n",
              " ['miraba', 'a', 'los', 'ingleses', 'remando'],\n",
              " ['rica', 'se', 'notaron', 'en', 'la'],\n",
              " ['de', 'un', 'mal', 'sueño', 'que'],\n",
              " ['que', 'se', 'le', 'preguntase', 'a'],\n",
              " ['un', 'naufragio', 'salvados', 'de', 'éste'],\n",
              " ['triste', 'servicio', 'y', 'algunos', 'cuerpos'],\n",
              " ['felizmente', 'porque', 'los', 'ingleses', 'comprendieron'],\n",
              " ['inglés', 'para', 'probarla', 'muy', 'bravo'],\n",
              " ['bien', 'la', 'puntería', 'con', 'una'],\n",
              " ['victoria', 'hubiera', 'sido', 'nuestra', 'eso'],\n",
              " ['a', 'bordo', 'aunque', 'no', 'para'],\n",
              " ['se', 've', 'nada', 'ni', 'lanchas'],\n",
              " ['oficiales', 'en', 'el', 'alcázar', 'de'],\n",
              " ['hundía', 'por', 'momentos', 'mis', 'temores'],\n",
              " ['a', 'veces', 'no', 'salía', 'del'],\n",
              " ['que', 'eran', 'fortísimas', 'murallas', 'de'],\n",
              " ['por', 'un', 'instante', 'el', 'humo'],\n",
              " ['a', 'cádiz', 'el', '_montañés_', 'de'],\n",
              " ['es', 'fácil', 'que', 'vuelva', 'a'],\n",
              " ['presenciado', 'la', 'muerte', 'de', 'churruca'],\n",
              " ['a', 'godoy', 'previendo', 'grandes', 'desaires'],\n",
              " ['aún', 'encontrar', 'entre', 'los', 'prisioneros'],\n",
              " ['cuando', 'pataplús', 'sentimos', 'el', '_musiqueo_'],\n",
              " ['varias', 'veces', 'noté', 'que', 'al'],\n",
              " ['favorecedoras', 'en', 'mi', 'anterior', 'miseria'],\n",
              " ['oído', 'tú', 'eso', 'yo', 'no'],\n",
              " ['él', 'una', 'escopeta', 'singular', 'sí'],\n",
              " ['acto', 'y', 'me', 'es', 'por'],\n",
              " ['reinaba', 'en', 'la', 'casa', 'los'],\n",
              " ['es', 'inmediato', 'maravillosa', 'superchería', 'de'],\n",
              " ['firme', 'y', 'podrán', 'formarse', 'idea'],\n",
              " ['buques', 'lejanos', 'aumentados', 'de', 'un'],\n",
              " ['marcial', 'casi', 'considerado', 'como', 'muerto'],\n",
              " ['se', 'fue', 'a', 'misa', 'con'],\n",
              " ['memoria', 'y', 'que', 'después', 'con'],\n",
              " ['años', 'como', 'se', 'hallaba', 'en'],\n",
              " ['cádiz', 'en', 'tanto', 'como', 'un'],\n",
              " ['los', 'ministros', 'vinieron', 'a', 'suplicarme'],\n",
              " ['francés', 'desapareció', 'de', 'la', 'popa'],\n",
              " ['mi', 'vida', 'a', 'todas', 'éstas'],\n",
              " ['cirujanitos', 'a', 'mí', 'yo', 'lo'],\n",
              " ['guerra', 'y', 'con', 'la', 'tempestad'],\n",
              " ['éstos', 'no', 'pudieran', 'prestarse', 'auxilio'],\n",
              " ['aunque', 'no', 'las', 'fuerzas', 'entonces'],\n",
              " ['del', 'combate', 'en', 'la', 'cual'],\n",
              " ['de', 'palabra', 'diciéndole', 'los', 'más'],\n",
              " ['repitiendo', 'como', 'un', 'eco', 'infernal'],\n",
              " ['mismo', 'había', 'presenciado', 'y', 'dije'],\n",
              " ['mayor', 'suerte', 'a', 'la', 'última'],\n",
              " ['en', 'prisioneros', 'todo', 'lo', 'comprendí'],\n",
              " ['de', 'mi', 'enamorada', 'rapacidad', 'desarrollando'],\n",
              " ['señor', 'oficial', 'de', 'artillería', 'pero'],\n",
              " ['fue', 'serena', 'y', 'navegábamos', 'con'],\n",
              " ['andanada', 'de', 'estribor', '_zapataplús_', 'la'],\n",
              " ['me', 'sacó', 'de', 'mi', 'arrobamiento'],\n",
              " ['amo', 'estaba', 'aquí', 'mirando', 'el'],\n",
              " ['dios', 'le', 'castigaría', 'por', 'su'],\n",
              " ['entregado', 'a', 'la', 'desesperación', 'su'],\n",
              " ['hora', 'en', 'que', 'fue', 'unánime'],\n",
              " ['dirigidas', 'por', 'centenares', 'de', 'hombres'],\n",
              " ['vez', 'me', 'encontraba', 'yo', 'más'],\n",
              " ['hombres', 'se', 'vuelven', 'locos', 'cuando'],\n",
              " ['del', 'tiempo', 'desde', 'que', 'observé'],\n",
              " ['infantil', 'la', 'nota', 'que', 'repercutía'],\n",
              " ['que', 'comprende', 'y', 'aprecia', 'las'],\n",
              " ['comandante', 'alcedo', 'que', 'murió', 'en'],\n",
              " ['que', 'antes', 'teníamos', 'las', 'proas'],\n",
              " ['breves', 'intervalos', 'daban', 'al', 'crepúsculo'],\n",
              " ['quiso', 'hacer', 'caso', 'de', 'mí'],\n",
              " ['no', 'me', 'mortifiquesdijo', 'mi', 'amo'],\n",
              " ['batirse', 'con', 'el', '_royal', 'sovereign_'],\n",
              " ['de', 'pura', 'raza', 'llevados', 'allí'],\n",
              " ['que', 'para', 'mí', 'el', 'oírla'],\n",
              " ['del', 'buque', 'una', 'pulgada', 'de'],\n",
              " ['un', 'poco', 'me', 'hicieron', 'beber'],\n",
              " ['a', 'apuntar', 'el', 'cañón', 'y'],\n",
              " ['movimientos', 'y', 'la', 'diversa', 'suerte'],\n",
              " ['y', 'la', 'virgen', 'del', 'carmen'],\n",
              " ['desde', 'el', 'principio', 'esta', 'funesta'],\n",
              " ['el', 'juicio', 'para', 'intentar', 'represar'],\n",
              " ['siglo', 'vi', 'en', 'nuestra', 'gloriosa'],\n",
              " ['voz', 'que', 'solicita', 'dulcemente', 'en'],\n",
              " ['representan', 'los', 'barcos', 'no', 'como'],\n",
              " ['rotura', 'del', 'brazo', 'decía', 'que'],\n",
              " ['son', 'ambiciosos', 'y', 'quieren', 'mandar'],\n",
              " ['criado', 'sonrió', 'ante', 'mí', 'hízome'],\n",
              " ['y', 'collingwoodes', 'pero', 'en', 'caso'],\n",
              " ['mayor', 'parte', 'de', 'los', 'comandantes'],\n",
              " ['mí', 'para', 'los', 'hombres', 'pundonorosos'],\n",
              " ['ya', 'agujereado', 'por', 'mil', 'partes'],\n",
              " ['y', 'a', 'hacer', 'la', 'guerra'],\n",
              " ['el', 'cuerpo', 'como', 'el', 'alma'],\n",
              " ['tía', 'martina', 'rosario', 'la', 'cocinera'],\n",
              " ['cuando', 'alcé', 'la', 'vista', 'y'],\n",
              " ['se', 'suponía', 'que', 'nuestros', 'compañeros'],\n",
              " ['enemigos', 'lo', 'que', 'más', 'me'],\n",
              " ['mismo', 'se', 'entienda', 'con', 'dios'],\n",
              " ['me', 'parece', 'que', 'indicó', 'a'],\n",
              " ['con', 'todos', 'sus', 'nelsones', 'y'],\n",
              " ['_santísima', 'trinidad_', 'pero', 'con', 'tan'],\n",
              " ['la', 'niebla', 'como', 'si', 'un'],\n",
              " ['tardé', 'sin', 'embargo', 'en', 'explicarme'],\n",
              " ['gana', '_pos', 'pá', 'eso_', 'grandes'],\n",
              " ['la', 'avanzada', 'edad', 'amenguaba', 'en'],\n",
              " ['bravo', 'estásdijo', 'mi', 'ama', 'quiera'],\n",
              " ['el', 'alma', 'alegre', 'viii', 'no'],\n",
              " ['verme', 'entrar', 'me', 'reprendió', 'por'],\n",
              " ['después', 'de', 'cincuenta', 'días', 'de'],\n",
              " ['a', 'los', 'paisanos', 'y', 'si'],\n",
              " ['palo', 'del', 'trinquete', 'los', 'navíos'],\n",
              " ['le', 'den', 'la', 'última', 'mano'],\n",
              " ['en', 'que', 'éstos', 'vestían', 'a'],\n",
              " ['con', 'este', 'medio', 'podría', 'atacar'],\n",
              " ['escenas', 'de', 'aquellos', 'lejanos', 'días'],\n",
              " ['sino', 'd', 'cosme', 'damián', 'churruca'],\n",
              " ['nelson', 'que', 'no', 'era', 'ningún'],\n",
              " ['dios', 'compré', 'algunas', 'golosinas', 'más'],\n",
              " ['d', 'francisca', 'movida', 'del', 'espectáculo'],\n",
              " ['de', 'improviso', 'una', 'gran', 'luz'],\n",
              " ['debía', 'uno', 'entusiasmarse', 'al', 'oír'],\n",
              " ['un', 'héroe', 'era', 'el', 'de'],\n",
              " ['heridos', 'la', 'mayor', 'parte', 'de'],\n",
              " ['no', 'que', 'no', 'la', 'armara'],\n",
              " ['haber', 'con', 'más', 'facilidad', 'que'],\n",
              " ['batiendo', 'parcialmente', 'sus', 'buques', 'en'],\n",
              " ['pasaron', 'meses', 'y', 'más', 'meses'],\n",
              " ['acción', 'pero', 'gravina', 'gravina', 'qué'],\n",
              " ['mí', 'más', 'tarde', 'mis', 'recuerdos'],\n",
              " ['todos', 'por', 'su', 'abnegación', 'y'],\n",
              " ['en', 'la', 'calle', 'en', 'pocas'],\n",
              " ['d', 'cosme', 'damián', 'churruca', 'y'],\n",
              " ['una', 'palabra', 'maldiciendo', 'al', 'ruin'],\n",
              " ['la', 'victoria', 'en', 'la', 'cámara'],\n",
              " ['divulgar', 'mi', 'secreto', 'los', 'buques'],\n",
              " ['d', 'alonso', 'y', 'a', 'mi'],\n",
              " ['que', 'afluía', 'en', 'abundancia', 'de'],\n",
              " ['va', 'para', 'allí', 'en', 'efecto'],\n",
              " ['la', 'escuadra', 'diga', '_nosotros_', 'yo'],\n",
              " ['echado', 'a', 'perder', 'que', 'será'],\n",
              " ['pan', 'lanzadas', 'por', 'la', 'mano'],\n",
              " ['noche', 'dispusieron', 'que', 'el', 'navío'],\n",
              " ['bajas', 'sostuvo', 'el', 'fuego', 'salí'],\n",
              " ['su', 'muelle', 'y', 'demás', 'sitios'],\n",
              " ['por', 'el', 'instinto', 'de', 'conservación'],\n",
              " ['guerra', 'desastrosa', 'e', 'impolítica', 'más'],\n",
              " ['adelantaban', 'otros', 'tardaron', 'mucho', 'en'],\n",
              " ['hace', 'tiempo', 'dobladas', 'de', 'un'],\n",
              " ['navíos', 'ingleses', 'se', 'había', 'rendido'],\n",
              " ['vez', 'más', 'la', 'elasticidad', 'de'],\n",
              " ['dijo', 'que', 'desgraciadamente', 'él', 'había'],\n",
              " ['d', 'felipe', 'cajigal', 'con', 'gravina'],\n",
              " ['_trinidad_', 'y', 'se', 'movían', 'a'],\n",
              " ['tan', 'feo', 'propósito', 'no', 'necesito'],\n",
              " ['guerra', 'cuando', 'se', 'fondeaban', 'frente'],\n",
              " ['retirado', 'del', 'servicio', 'y', 'su'],\n",
              " ['del', '_san', 'hermenegildo_', 'josé', 'débora'],\n",
              " ['de', 'cisniega', 'había', 'venido', 'a'],\n",
              " ['su', 'pabellón', 'saludándole', 'con', 'vivas'],\n",
              " ['mar', 'cuyo', 'elocuente', 'rumor', 'me'],\n",
              " ['que', 'me', 'prodigó', 'con', 'toda'],\n",
              " ['teníamos', 'la', 'misma', 'edad', 'poco'],\n",
              " ['dios', 'y', 'estoy', 'tranquilo', 'gabrielillo'],\n",
              " ['y', 'acorralados', 'en', 'el', 'primer'],\n",
              " ['puerto', 'estaba', 'cerca', 'de', 'todos'],\n",
              " ['no', 'habría', 'tenido', 'importancia', 'alguna'],\n",
              " ['municiones', 'pasaban', 'de', 'los', 'pañoles'],\n",
              " ['nos', 'arrastraba', 'niño', 'que', 'conducía'],\n",
              " ['cosas', 'y', 'en', 'aquella', 'ocasión'],\n",
              " ['y', 'd', 'alonso', 'que', 'en'],\n",
              " ['lo', 'concerniente', 'al', 'servicio', 'de'],\n",
              " ['acción', 'de', 'engullir', 'hacen', 'mucha'],\n",
              " ['repuso', 'd', 'rafael', 'con', 'tristeza'],\n",
              " ['presencia', 'noble', 'modales', 'airosos', 'mirada'],\n",
              " ['se', 'miraron', 'y', 'un', 'largo'],\n",
              " ['mejor', 'modo', 'de', 'expresar', 'su'],\n",
              " ['marino', 'del', 'mismo', 'apellido', 'era'],\n",
              " ['novio', 'de', 'su', 'alto', 'linaje'],\n",
              " ['que', 'yo', 'he', 'hecho', 'muy'],\n",
              " ['trinquete', 'había', 'caído', 'y', 'el'],\n",
              " ['maravillé', 'viéndole', 'gozoso', 'como', 'unas'],\n",
              " ['mis', 'brazos', 'al', 'héroe', 'del'],\n",
              " ['no', 'quería', 'que', 'le', 'vieran'],\n",
              " ['la', 'columna', 'mandada', 'por', 'collingwood'],\n",
              " ['butrón', 'encargado', 'de', 'ella', 'cuida'],\n",
              " ['réstame', 'hablar', 'ahora', 'del', 'marinero'],\n",
              " ['lo', 'arrastraban', 'sin', 'que', 'la'],\n",
              " ['hacen', 'un', 'gran', 'disparate', 'armando'],\n",
              " ['palabras', 'tú', 'no', 'tienes', 'pecados'],\n",
              " ['mañana', 'siguiente', 'me', 'acerqué', 'a'],\n",
              " ['de', 'colinas', 'y', 'lejanos', 'montes'],\n",
              " ['y', 'la', 'cadena', 'de', 'colinas'],\n",
              " ['la', 'academia', 'asimismo', 'aplicaba', 'el'],\n",
              " ['mirada', 'hacia', 'lo', 'que', 'fue'],\n",
              " ['combates', 'navales', 'pues', 'había', 'uno'],\n",
              " ['es', 'de', 'un', 'barco', 'sin'],\n",
              " ['yo', 'me', 'las', 'echaba', 'de'],\n",
              " ['las', 'lanchas', 'del', '_trinidad_', 'las'],\n",
              " ['valerosa', 'sin', 'duda', 'pero', 'que'],\n",
              " ['contra', 'el', '_san', 'juan_', 'pero'],\n",
              " ['piadosa', 'costumbre', 'los', 'dos', 'marinos'],\n",
              " ['de', 'agua', 'bastante', 'menor', 'que'],\n",
              " ['lo', 'que', 'primero', 'atrajo', 'mis'],\n",
              " ['el', 'peluquero', 'armó', 'en', 'su'],\n",
              " ['con', 'el', 'rayo', 'de', 'su'],\n",
              " ['ingleses', 'si', 'éstos', 'los', 'hubieran'],\n",
              " ['que', 'darles', 'la', 'gran', 'paliza'],\n",
              " ['navío', 'pequeñas', 'olas', 'acariciaban', 'sus'],\n",
              " ['apenas', 'sintió', 'dolor', 'y', 'abatimiento'],\n",
              " ['del', 'océano', 'estas', 'reflexiones', 'hacía'],\n",
              " ['ellos', 'que', 'si', 'no', 'tienen'],\n",
              " ['de', 'asturias_', 'mas', 'como', 'se'],\n",
              " ['rato', 'asombrado', 'de', 'tanto', 'valor'],\n",
              " ['ya', 'hacía', 'mucho', 'tiempo', 'que'],\n",
              " ['mis', 'ojos', 'el', 'entusiasmo', 'era'],\n",
              " ['el', 'barrio', 'de', 'la', 'viña'],\n",
              " ['victory====================', '>', '|neptune', 'f', 't', '|'],\n",
              " ['palabra', 'concluida', 'aquélla', 'se', 'verificó'],\n",
              " ['pues', 'aquel', 'matrimonio', 'que', 'durante'],\n",
              " ['lector', 'no', 'la', 'sabe', 'y'],\n",
              " ['algún', 'accidente', 'que', 'fuera', 'desahogo'],\n",
              " ['dios', 'he', 'cumplido', 'con', 'mi'],\n",
              " ['la', 'travesía', 'del', 'barco', 'naufragado'],\n",
              " ['dinero', 'a', 'madrid', 'ni', 'un'],\n",
              " ['pálido', 'por', 'la', 'fatiga', 'y'],\n",
              " ['con', 'gracia', 'la', 'descomunal', 'boca'],\n",
              " ['usted', 'el', 'destrozo', 'que', 'harían'],\n",
              " ['ésta', 'aborrecía', 'las', 'glorias', 'navales'],\n",
              " ['acción', 'con', 'tan', 'torpe', 'estrategia'],\n",
              " ['guerra', 'cuya', 'salida', 'para', 'tales'],\n",
              " ['_patigurbiar', 'chingurria_', 'y', 'otros', 'feroces'],\n",
              " ['osaba', 'contrariar', 'aunque', 'evitando', 'toda'],\n",
              " ['la', 'cabeza', 'que', 'se', 'le'],\n",
              " ['de', 'cansancio', 'y', 'juzgando', 'que'],\n",
              " ['nos', 'está', 'fastidiando', 'con', 'sus'],\n",
              " ['hermosuras', 'pintadas', 'así', 'intentaré', 'dar'],\n",
              " ['propios', 'de', 'quien', 'se', 'observa'],\n",
              " ['niños', 'los', 'perros', 'hasta', 'las'],\n",
              " ['marina', 'española', 'en', 'la', 'última'],\n",
              " ['de', 'un', 'devoto', 'era', 'doña'],\n",
              " ['se', 'entienda', 'con', 'dios', 'no'],\n",
              " ['nadie', 'me', 'dice', 'a', 'punto'],\n",
              " ['si', 'vinieran', 'de', 'otro', 'mundo'],\n",
              " ['tan', 'largo', 'proyecto', 'esperé', 'dos'],\n",
              " ['cuando', 'le', 'pusieron', 'sobre', 'cubierta'],\n",
              " ['la', 'jugarondijo', 'la', 'dama', 'estuvo'],\n",
              " ['no', 'puede', 'encontrar', 'imagen', 'más'],\n",
              " ['los', 'palos', 'para', 'evitar', 'que'],\n",
              " ['la', 'atmósfera', 'de', 'mi', 'ciudad'],\n",
              " ['mi', 'amita', 'me', 'hubiera', 'tratado'],\n",
              " ['espantoso', 'rumor', 'de', 'la', 'refriega'],\n",
              " ['viene', 'pero', 'ahora', 'me', 'pesa'],\n",
              " ['tu', 'mujer', 'todavía', 'serías', 'guardia'],\n",
              " ['mi', 'amo', 'interrumpiéndola', 'vivamente', 'es'],\n",
              " ['a', 'la', 'de', 'ningún', 'habitante'],\n",
              " ['fisonómicos', 'de', 'la', 'cara', 'de'],\n",
              " ['le', 'viéramos', 'pero', 'nadie', 'dejó'],\n",
              " ['escuadras', 'y', 'los', 'cañones', 'no'],\n",
              " ['me', 'parece', 'oír', 'el', 'rumor'],\n",
              " ['grave', 'tristeza', 'de', 'su', 'semblante'],\n",
              " ['las', 'horizontales', 'cierto', 'inexplicable', 'idealismo'],\n",
              " ['poco', 'aquello', 'produjo', 'gran', 'consternación'],\n",
              " ['alcázar', 'cubierto', 'de', 'muertos', 'y'],\n",
              " ['le', 'abandonó', 'y', 'la', 'única'],\n",
              " ['y', 'que', 'no', 'le', 'caben'],\n",
              " ['se', 'dirigían', 'al', 'norte', 'y'],\n",
              " ['sí', 'eran', 'heridas', 'ya', 'sabes'],\n",
              " ['nuestra', 'iniciativa', 'y', 'altas', 'especulaciones'],\n",
              " ['tiesos', 'de', 'espanto', 'porque', 'vimos'],\n",
              " ['conservar', 'el', 'nuestro', 'de', 'todos'],\n",
              " ['en', 'el', '_real', 'carlos_', 'de'],\n",
              " ['refriega', 'y', 'gritos', 'que', 'anunciaban'],\n",
              " ['por', 'convencidos', 'se', 'templaba', 'el'],\n",
              " ['en', 'aquel', 'gigantesco', 'barco', 'el'],\n",
              " ['barcos', 'ingleses', 'con', 'la', 'cifra'],\n",
              " ['nuestras', 'penas', 'pronto', 'pondríamos', 'el'],\n",
              " ['los', 'que', 'arman', 'las', 'guerras'],\n",
              " ['dar', 'julepe', 'por', 'el', 'centro'],\n",
              " ['todo', 'lo', 'comprendí', 'el', 'heroico'],\n",
              " ['obsequio', 'a', 'sus', 'compañeros', 'no'],\n",
              " ['hasta', 'que', 'herido', 'el', 'general'],\n",
              " ['que', 'al', 'hablar', 'hacía', 'con'],\n",
              " ['que', 'se', 'determinó', 'en', 'mi'],\n",
              " ['y', 'creo', 'que', 'las', 'primeras'],\n",
              " ['grave', 'asunto', 'aplicando', 'mi', 'diligente'],\n",
              " ['puede', 'llamarse', 'navegación', 'el', 'vagar'],\n",
              " ['que', 'la', 'felicidad', 'no', 'se'],\n",
              " ['cercén', 'más', 'abajo', 'del', 'codo'],\n",
              " ['sabiendo', 'cómo', 'mantenerse', 'y', 'mantener'],\n",
              " ['de', 'la', 'obscuridad', 'de', 'la'],\n",
              " ['el', 'espíritu', 'las', 'impresiones', 'de'],\n",
              " ['me', 'aturdí', 'se', 'nublaron', 'mis'],\n",
              " ['consideraba', 'cuán', 'fácilmente', 'se', 'burla'],\n",
              " ['llama', 'con', 'imperiosa', 'cólera', 'en'],\n",
              " ['hubiera', 'sido', 'muda', 'como', 'una'],\n",
              " ['hijos', 'que', 'educar', 'hacienda', 'que'],\n",
              " ['paseo', 'a', 'los', 'ingleses', 'y'],\n",
              " ['me', 'estremecen', 'las', 'carnes', 'cuando'],\n",
              " ['velas', 'con', 'sus', 'blancos', 'velámenes'],\n",
              " ['ya', 'sobre', 'cubierta', 'se', 'arrastraban'],\n",
              " ['atención', 'y', 'fue', 'que', 'los'],\n",
              " ['oficio', 'mas', 'al', 'saber', 'que'],\n",
              " ['las', 'linternas', 'de', 'un', 'castillo'],\n",
              " ['que', 'la', 'hubiera', 'defendido', 'contra'],\n",
              " ['descubierto', 'mi', 'propósito', 'era', 'inquebrantable'],\n",
              " ['la', 'ligereza', 'de', 'sus', 'manos'],\n",
              " ['dos', 'por', 'mí', 'nada', 'me'],\n",
              " ['mandado', 'orzar', 'a', 'babor', 'en'],\n",
              " ['respondió', 'a', 'ella', 'con', 'espontáneos'],\n",
              " ['tan', 'solemnes', 'días', 'voy', 'a'],\n",
              " ['salvado', 'a', 'todos', 'los', 'de'],\n",
              " ['honra', 'nacional', 'más', 'tarde', 'me'],\n",
              " ['tienen', 'cincuenta', 'u', 'ochenta', 'marcial'],\n",
              " ['me', 'sentí', 'transportado', 'y', 'cuando'],\n",
              " ['de', 'la', 'antigüedad', 'entonces', 'no'],\n",
              " ['eso', 'sí', 'tenía', 'el', 'genio'],\n",
              " ['pero', 'lo', 'que', 'es', 'este'],\n",
              " ['un', 'desinteresado', 'afecto', 'era', 'mi'],\n",
              " ['de', 'mi', 'amo', 'antes', 'de'],\n",
              " ['había', 'de', 'ir', 'a', 'la'],\n",
              " ['los', 'navíos', 'sotaventados', 'y', 'fuera'],\n",
              " ['josé', 'maríadijo', 'un', 'oficial', 'explíquenos'],\n",
              " ['recuerdos', 'toman', 'un', 'tinte', 'melancólico'],\n",
              " ['diez', 'años', 'a', 'fe', 'que'],\n",
              " ['gesto', 'amenazador', 'si', 'no', 'fuera'],\n",
              " ['tripulación', 'creí', 'soñar', 'todavía', 'me'],\n",
              " ['las', 'naves', 'que', 'estaban', 'a'],\n",
              " ['por', 'su', 'poético', 'y', 'misterioso'],\n",
              " ['en', 'el', 'manejo', 'de', 'la'],\n",
              " ['y', 'desde', 'el', 'mirador', 'podrás'],\n",
              " ['actos', 'el', 'deseo', 'de', 'tenerla'],\n",
              " ['para', 'que', 'se', 'pasee', 'por'],\n",
              " ['tan', 'suelto', 'por', 'españa', 'haciendo'],\n",
              " ['que', 'llegaron', 'en', 'lo', 'más'],\n",
              " ['a', 'la', 'cual', 'se', 'refería'],\n",
              " ['alegres', 'su', 'caleta', 'que', 'simbolizaba'],\n",
              " ['alegría', 'encontrándole', 'vivo', 'pues', 'había'],\n",
              " ['en', 'ello', 'y', 'el', 'rey'],\n",
              " ['ha', 'hecho', 'ha', 'hecho', 'lo'],\n",
              " ['nos', 'traiga', 'a', 'cádiz', 'dos'],\n",
              " ['ver', 'lo', 'que', 'pasaba', 'y'],\n",
              " ['y', 'alegre', 'chillido', 'con', 'que'],\n",
              " ['a', 'la', 'cola', 'nelson', 'que'],\n",
              " ['coincidencia', 'no', 'condeno', 'en', 'absoluto'],\n",
              " ['cámara', 'yacían', 'cubiertos', 'con', 'el'],\n",
              " ['que', 'un', 'genio', 'amigo', 'viene'],\n",
              " ['en', 'mis', 'atribuciones', 'le', 'decíamos'],\n",
              " ['que', 'el', 'papel', 'en', 'que'],\n",
              " ['con', 'la', 'cabeza', 'descubierta', 'el'],\n",
              " ['entre', 'tanto', 'no', 'era', 'posible'],\n",
              " ['maría', 'malespina', 'que', 'no', 'tenía'],\n",
              " ['nuestros', 'no', 'podía', 'permanecer', 'callada'],\n",
              " ['señora', 'no', 'se', 'anda', 'con'],\n",
              " ['heroico', 'al', 'divino', 'al', 'sublime'],\n",
              " ['bien', 'dicen', 'que', 'ese', 'godoy'],\n",
              " ['creo', 'que', 'ambas', 'cosas', 'a'],\n",
              " ['así', 'se', 'lo', 'he', 'dicho'],\n",
              " ['de', 'tierra', 'a', 'mí', 'que'],\n",
              " ['formada', 'de', 'las', 'marchitas', 'rosas'],\n",
              " ['pensó', 'más', 'en', 'los', 'heridos'],\n",
              " ['las', 'órdenes', 'del', 'emperador', 'la'],\n",
              " ['tres', 'de', 'los', 'que', 'se'],\n",
              " ['mandado', 'detener', 'la', 'marcha', 'del'],\n",
              " ['que', 'de', 'la', 'defensa', 'mas'],\n",
              " ['indispensable', 'rendirse', 'la', 'consternación', 'de'],\n",
              " ['artillería', 'que', 'fue', 'transportado', 'a'],\n",
              " ['los', 'buques', 'enemigos', 'qué', 'hermosa'],\n",
              " ['tenía', 'delante', 'medio', 'ingenioso', 'que'],\n",
              " ['yo', 'me', 'las', 'representaba', 'de'],\n",
              " ['cual', 'no', 'iba', 'del', 'todo'],\n",
              " ['franceses', 'colocados', 'delante', 'detrás', 'y'],\n",
              " ['en', 'uno', 'de', 'los', 'primeros'],\n",
              " ['los', 'ingleses', 'que', 'le', 'conocían'],\n",
              " ['de', 'eso', 'estoy', 'bien', 'seguro'],\n",
              " ['por', 'el', 'centro', 'cómo', 'pueden'],\n",
              " ['hermosos', 'barcos', 'así', 'lo', 'hizo'],\n",
              " ['octubre', 'escribió', 'a', 'gravina', 'diciéndole'],\n",
              " ['gran', 'espectáculo', 'pero', 'dejando', 'a'],\n",
              " ['tío', 'un', 'regaño', 'de', 'mi'],\n",
              " ['tenía', 'puesto', 'en', 'el', 'buque'],\n",
              " ['ordinarios', 'empezaba', 'la', 'pelea', 'y'],\n",
              " ['dicen', 'que', 'le', 'han', 'traído'],\n",
              " ['estaba', 'declarada', 'la', 'guerra', 'el'],\n",
              " ['ha', 'sido', 'de', 'la', 'reserva'],\n",
              " ['libre', 'aunque', 'comprometido', 'en', 'nueva'],\n",
              " ['castillo', 'ojival', 'eran', 'como', 'grandes'],\n",
              " ['ni', 'del', 'combate', 'del', 'cabo'],\n",
              " ['virgen', 'del', 'carmen', 'a', 'quien'],\n",
              " ['no', 'sirven', 'para', 'nada', 'no'],\n",
              " ['viró', 'prontamente', 'y', 'colocándose', 'a'],\n",
              " ['en', 'los', 'modales', 'por', 'una'],\n",
              " ['artillería', 'como', 'si', 'hubiéramos', 'estado'],\n",
              " ['en', 'cuanto', 'se', 'acelere', 'un'],\n",
              " ['un', 'genio', 'amigo', 'viene', 'y'],\n",
              " ['de', 'sus', 'movimientos', 'cogidos', 'en'],\n",
              " ['esfuerzos', 'fueron', 'inútiles', 'y', 'tuvo'],\n",
              " ...]"
            ]
          },
          "metadata": {},
          "execution_count": 17
        }
      ]
    },
    {
      "cell_type": "code",
      "source": [
        "from gensim.models import Word2Vec\n",
        "model=Word2Vec(newsVec, min_count=1, vector_size=32)\n",
        "model.wv[\"caballero\"]"
      ],
      "metadata": {
        "colab": {
          "base_uri": "https://localhost:8080/"
        },
        "id": "Y5gQ7sRoHEOG",
        "outputId": "6b9b3656-b932-4015-8c9b-8be7e44852fd"
      },
      "execution_count": 18,
      "outputs": [
        {
          "output_type": "execute_result",
          "data": {
            "text/plain": [
              "array([-0.09281999, -0.4495089 ,  0.37317616,  0.27847937, -0.08410522,\n",
              "       -0.3436988 ,  0.40628433,  0.24880463, -0.12750521,  0.03826626,\n",
              "        0.17038073, -0.3255076 ,  0.02416263, -0.17249124, -0.2457167 ,\n",
              "       -0.02233291, -0.13297512,  0.22310191,  0.08325858,  0.34731364,\n",
              "        0.41419664,  0.5042874 ,  0.65491664, -0.33356512,  0.08339622,\n",
              "        0.02619052, -0.3091404 ,  0.09547292,  0.02042916, -0.44525245,\n",
              "       -0.2712552 , -0.01884866], dtype=float32)"
            ]
          },
          "metadata": {},
          "execution_count": 18
        }
      ]
    },
    {
      "cell_type": "code",
      "source": [
        "model.wv.most_similar(\"caballero\")"
      ],
      "metadata": {
        "colab": {
          "base_uri": "https://localhost:8080/"
        },
        "id": "sU7GpxjPHLvv",
        "outputId": "959dceeb-c6e3-418e-b7c0-24fb5d24630d"
      },
      "execution_count": 19,
      "outputs": [
        {
          "output_type": "execute_result",
          "data": {
            "text/plain": [
              "[('cuyo', 0.9964745044708252),\n",
              " ('apenas', 0.9961650967597961),\n",
              " ('esfuerzo', 0.9961567521095276),\n",
              " ('tener', 0.9958619475364685),\n",
              " ('varias', 0.9957494139671326),\n",
              " ('mirada', 0.9956908226013184),\n",
              " ('alguno', 0.9956010580062866),\n",
              " ('tono', 0.9954982399940491),\n",
              " ('terror', 0.9954501390457153),\n",
              " ('habiendo', 0.9949938058853149)]"
            ]
          },
          "metadata": {},
          "execution_count": 19
        }
      ]
    },
    {
      "metadata": {
        "id": "4FzgtAbPIs6f"
      },
      "cell_type": "markdown",
      "source": [
        "#### 2.3. Obtención de input X y output y para el modelo\n",
        "\n",
        "Finalmente, a partir de los datos de entrenamiento que hemos generado vamos a crear los arrays de datos X e y que pasaremos a nuestro modelo.\n",
        "\n",
        "Para ello, vamos a utilizar *one-hot encoding* para nuestras palabras. Por ejemplo, si sólo tuviéramos 4 palabras (a, b, c, d), las representaciones serían: (1, 0, 0, 0), (0, 1, 0, 0), (0, 0, 1, 0) y (0, 0, 0, 1).\n",
        "\n",
        "De este modo, **X** tendrá shape *(num_sequences, seq_length, num_words)* e **y** tendrá shape *(num_sequences, num_words)*.\n",
        "\n"
      ]
    },
    {
      "metadata": {
        "id": "zMBwZ9obNGNg"
      },
      "cell_type": "code",
      "source": [
        "NUM_SEQUENCES = len(sequences)\n",
        "X = np.zeros((NUM_SEQUENCES, SEQ_LENGTH, 32))\n",
        "y = np.zeros((NUM_SEQUENCES, len(palabras_unicas)))"
      ],
      "execution_count": 20,
      "outputs": []
    },
    {
      "cell_type": "code",
      "source": [
        "for k in range(NUM_SEQUENCES):\n",
        "  palabra=next_words[k]\n",
        "  y[k,word_index[palabra]]=1 #codificación ONE-HOT"
      ],
      "metadata": {
        "id": "h6h5Jq-MHZNC"
      },
      "execution_count": 21,
      "outputs": []
    },
    {
      "cell_type": "code",
      "source": [
        "for k in range(NUM_SEQUENCES):\n",
        "    for w in range(SEQ_LENGTH):\n",
        "        word = sequences[k][w]\n",
        "        if word in model.wv:\n",
        "            X[k,w] = model.wv[word]\n",
        "        else:\n",
        "            pass"
      ],
      "metadata": {
        "id": "qbxOhPuAHdzM"
      },
      "execution_count": 22,
      "outputs": []
    },
    {
      "metadata": {
        "id": "IxeUxz3HPm3l"
      },
      "cell_type": "markdown",
      "source": [
        "## 3. Definición del modelo y entrenamiento\n",
        "\n",
        "Una vez tenemos ya todo preparado, es hora de definir el modelo. Define un modelo que utilice una **LSTM** con **128 unidades internas**. Si bien el modelo puede definirse de una manera más compleja, para empezar debería bastar con una LSTM más una capa Dense con el *softmax* que predice el siguiente caracter a producir. Adam puede ser una buena elección de optimizador.\n",
        "\n",
        "Una vez el modelo esté definido, entrénalo un poco para asegurarte de que la loss es decreciente. No es necesario guardar la salida de este entrenamiento en el entregable final, ya que vamos a hacer el entrenamiento más informativo en el siguiente punto."
      ]
    },
    {
      "metadata": {
        "id": "MSw2j0btYWZs",
        "colab": {
          "base_uri": "https://localhost:8080/"
        },
        "outputId": "d3c51840-ee04-4fa0-848c-2ae0abb7c0e2"
      },
      "cell_type": "code",
      "source": [
        "vocabulary_size=len(palabras_unicas)\n",
        "model=Sequential()\n",
        "model.add(LSTM(128, input_shape=(SEQ_LENGTH,32)))\n",
        "model.add(Dense(vocabulary_size,activation='softmax'))\n",
        "print(model.summary())"
      ],
      "execution_count": 23,
      "outputs": [
        {
          "output_type": "stream",
          "name": "stdout",
          "text": [
            "Model: \"sequential\"\n",
            "_________________________________________________________________\n",
            " Layer (type)                Output Shape              Param #   \n",
            "=================================================================\n",
            " lstm (LSTM)                 (None, 128)               82432     \n",
            "                                                                 \n",
            " dense (Dense)               (None, 8774)              1131846   \n",
            "                                                                 \n",
            "=================================================================\n",
            "Total params: 1214278 (4.63 MB)\n",
            "Trainable params: 1214278 (4.63 MB)\n",
            "Non-trainable params: 0 (0.00 Byte)\n",
            "_________________________________________________________________\n",
            "None\n"
          ]
        }
      ]
    },
    {
      "cell_type": "code",
      "source": [
        "optimizer='adam'\n",
        "model.compile(loss='categorical_crossentropy',optimizer=optimizer,metrics=['accuracy'])\n",
        "history=model.fit(X,y, validation_split=0.05, batch_size=128, epochs=5,shuffle=True)"
      ],
      "metadata": {
        "colab": {
          "base_uri": "https://localhost:8080/"
        },
        "id": "dnoW795bHre4",
        "outputId": "7374b86c-d767-4097-de80-5de99a2bd0fe"
      },
      "execution_count": 25,
      "outputs": [
        {
          "output_type": "stream",
          "name": "stdout",
          "text": [
            "Epoch 1/5\n",
            "381/381 [==============================] - 7s 13ms/step - loss: 6.7875 - accuracy: 0.0689 - val_loss: 6.9203 - val_accuracy: 0.0730\n",
            "Epoch 2/5\n",
            "381/381 [==============================] - 4s 11ms/step - loss: 6.4131 - accuracy: 0.0754 - val_loss: 6.8449 - val_accuracy: 0.0843\n",
            "Epoch 3/5\n",
            "381/381 [==============================] - 4s 10ms/step - loss: 6.1664 - accuracy: 0.0839 - val_loss: 6.8526 - val_accuracy: 0.0804\n",
            "Epoch 4/5\n",
            "381/381 [==============================] - 4s 10ms/step - loss: 5.9722 - accuracy: 0.0883 - val_loss: 6.8499 - val_accuracy: 0.0773\n",
            "Epoch 5/5\n",
            "381/381 [==============================] - 4s 11ms/step - loss: 5.8013 - accuracy: 0.0905 - val_loss: 6.8887 - val_accuracy: 0.0765\n"
          ]
        }
      ]
    },
    {
      "cell_type": "code",
      "source": [
        "probs = model.predict(X)"
      ],
      "metadata": {
        "colab": {
          "base_uri": "https://localhost:8080/"
        },
        "id": "POgaVk4xHwUT",
        "outputId": "d09cbf9f-2aef-428e-a010-99f69d847bc5"
      },
      "execution_count": 26,
      "outputs": [
        {
          "output_type": "stream",
          "name": "stdout",
          "text": [
            "1601/1601 [==============================] - 3s 2ms/step\n"
          ]
        }
      ]
    },
    {
      "cell_type": "code",
      "source": [
        "print(probs[1])"
      ],
      "metadata": {
        "colab": {
          "base_uri": "https://localhost:8080/"
        },
        "id": "5lp3BIRHHyK1",
        "outputId": "1cdd383c-2537-4449-bf32-6c5656f46591"
      },
      "execution_count": 27,
      "outputs": [
        {
          "output_type": "stream",
          "name": "stdout",
          "text": [
            "[2.4221212e-04 1.0867815e-05 7.7835946e-05 ... 9.4469455e-05 4.6561039e-05\n",
            " 4.0656250e-06]\n"
          ]
        }
      ]
    },
    {
      "metadata": {
        "id": "3yUFHS4kHkyY"
      },
      "cell_type": "markdown",
      "source": [
        "Para ver cómo evoluciona nuestro modelo del lenguaje, vamos a generar texto según va entrenando. Para ello, vamos a programar una función que, utilizando el modelo en su estado actual, genere texto, con la idea de ver cómo se va generando texto al entrenar cada epoch.\n",
        "\n",
        "En el código de abajo podemos ver una función auxiliar para obtener valores de una distribución multinomial. Esta función se usará para muestrear el siguiente carácter a utilizar según las probabilidades de la salida de softmax (en vez de tomar directamente el valor con la máxima probabilidad, obtenemos un valor aleatorio según la distribución de probabilidad dada por softmax, de modo que nuestros resultados serán más diversos, pero seguirán teniendo \"sentido\" ya que el modelo tenderá a seleccionar valores con más probabilidad).\n",
        "\n"
      ]
    },
    {
      "metadata": {
        "id": "LoGYpWOHd7Lr"
      },
      "cell_type": "code",
      "source": [
        "def sample(probs, temperature=1.0):\n",
        "\n",
        "  \"\"\"Nos da el índice del elemento a elegir según la distribución\n",
        "  de probabilidad dada por probs.\n",
        "  Args:\n",
        "  probs es la salida dada por una capa softmax:\n",
        "  probs = model.predict(x_to_predict)[0]\n",
        "  temperature es un parámetro que nos permite obtener mayor\n",
        "  \"diversidad\" a la hora de obtener resultados.\n",
        "  temperature = 1 nos da la distribución normal de softmax\n",
        "  0 < temperature < 1 hace que el sampling sea más conservador,\n",
        "  de modo que sampleamos cosas de las que estamos más seguros\n",
        "  temperature > 1 hace que los samplings sean más atrevidos,\n",
        "  eligiendo en más ocasiones clases con baja probabilidad.\n",
        "  Con esto, tenemos mayor diversidad pero se cometen más\n",
        "  errores.\n",
        "  \"\"\"\n",
        "\n",
        "  # Cast a float64 por motivos numéricos\n",
        "  probs = np.asarray(probs).astype('float64')\n",
        "  # Hacemos logaritmo de probabilidades y aplicamos reducción\n",
        "  # por temperatura.\n",
        "  probs = np.log(probs) / temperature\n",
        "  # Volvemos a aplicar exponencial y normalizamos de nuevo\n",
        "  exp_probs = np.exp(probs)\n",
        "  probs = exp_probs / np.sum(exp_probs)\n",
        "  # Hacemos el sampling dadas las nuevas probabilidades\n",
        "  # de salida (ver doc. de np.random.multinomial)\n",
        "  samples = np.random.multinomial(1, probs, 1)\n",
        "  return np.argmax(samples)"
      ],
      "execution_count": null,
      "outputs": []
    },
    {
      "metadata": {
        "id": "3fejfZldd4ou"
      },
      "cell_type": "markdown",
      "source": [
        "Utilizando la función anterior y el modelo entrenado, vamos a añadir un callback a nuestro modelo para que, según vaya entrenando, veamos los valores que resultan de generar textos con distintas temperaturas al acabar cada epoch.\n",
        "\n",
        "Para ello, abajo tenéis disponible el callback *on_epoch_end*. Esta función elige una secuencia de texto al azar en el texto disponible en la variable\n",
        "text y genera textos de longitud *GENERATED_TEXT_LENGTH* según las temperaturas en *TEMPERATURES_TO_TRY*, utilizando para ello la función *generate_text*.\n",
        "\n",
        "Completa la función *generate_text* de modo que utilicemos el modelo y la función sample para generar texto.\n",
        "\n",
        "NOTA: Cuando hagas model.predict, es aconsejable usar verbose=0 como argumento para evitar que la función imprima valores de salida."
      ]
    },
    {
      "metadata": {
        "id": "xOEZvnBXkODd"
      },
      "cell_type": "code",
      "source": [
        "TEMPERATURES_TO_TRY = [0.2, 0.5, 1.0, 1.2]\n",
        "GENERATED_TEXT_LENGTH = 300\n",
        "def generate_text(seed_text, model, length, temperature=1):\n",
        "  \"\"\"Genera una secuencia de texto a partir de seed_text utilizando model.\n",
        "  La secuencia tiene longitud length y el sampling se hace con la temperature\n",
        "  definida.\n",
        "  \"\"\"\n",
        "  # Aquí guardaremos nuestro texto generado, que incluirá el\n",
        "  # texto origen\n",
        "  generated = seed_text\n",
        "  # Utilizar el modelo en un bucle de manera que generemos\n",
        "  # carácter a carácter. Habrá que construir los valores de\n",
        "  # X_pred de manera similar a como hemos hecho arriba, salvo que\n",
        "  # aquí sólo se necesita una oración\n",
        "  # Nótese que el x que utilicemos tiene que irse actualizando con\n",
        "  # los caracteres que se van generando. La secuencia de entrada al\n",
        "  # modelo tiene que ser una secuencia de tamaño SEQ_LENGTH que\n",
        "  # incluya el último caracter predicho.\n",
        "  ### TU CÓDIGO AQUÍ\n",
        "  ### FIN DE TU CÓDIGO\n",
        "  return generated"
      ],
      "execution_count": null,
      "outputs": []
    },
    {
      "cell_type": "code",
      "source": [
        "def on_epoch_end(epoch, logs):\n",
        "  print(\"\\n\\n\\n\")\n",
        "  # Primero, seleccionamos una secuencia al azar para empezar a predecir\n",
        "  # a partir de ella\n",
        "  start_pos = random.randint(0, len(text) - SEQ_LENGTH - 1)\n",
        "  seed_text = text[start_pos:start_pos + SEQ_LENGTH]\n",
        "  for temperature in TEMPERATURES_TO_TRY:\n",
        "    print(\"------> Epoch: {} - Generando texto con temperature {}\".format(epoch + 1, temperature))\n",
        "    generated_text = generate_text(seed_text, model,\n",
        "    GENERATED_TEXT_LENGTH, temperature)\n",
        "    print(\"Seed: {}\".format(seed_text))\n",
        "    print(\"Texto generado: {}\".format(generated_text))\n",
        "    print()\n",
        "\n",
        "generation_callback = LambdaCallback(on_epoch_end=on_epoch_end)"
      ],
      "metadata": {
        "id": "PfMFjYUuINEv"
      },
      "execution_count": null,
      "outputs": []
    },
    {
      "metadata": {
        "id": "BSMYZ2JdrSJg"
      },
      "cell_type": "markdown",
      "source": [
        "Entrena ahora tu modelo. No te olvides de añadir *generation_callback* a la lista de callbacks utilizados en fit(). Ya que las métricas de clasificación no son tan críticas aquí (no nos importa tanto acertar el carácter exacto, sino obtener una distribución de probabilidad adecuada), no es necesario monitorizar la accuracy ni usar validation data, si bien puedes añadirlos para asegurarte de que todo está en orden.\n"
      ]
    },
    {
      "metadata": {
        "id": "3oT7pNvjrP2e"
      },
      "cell_type": "code",
      "source": [],
      "execution_count": null,
      "outputs": []
    },
    {
      "metadata": {
        "id": "pBbmz9DMhVhc"
      },
      "cell_type": "markdown",
      "source": [
        "## Entregable\n",
        "\n",
        "Completa los apartados anteriores para entrenar modelos del lenguaje que sean capaces de generar texto con cierto sentido. Comentar los resultados obtenidos y cómo el modelo va mejorando época a época. Comentar las diferencias apreciadas al utilizar diferentes valores de temperatura. Entregar al menos la salida de un entrenamiento completo con los textos generados época a época.\n",
        "\n",
        "El objetivo no es conseguir generar pasajes literarios con coherencia, sino obtener lenguaje que se asemeje en cierta manera a lo visto en el texto original y donde las palabras sean reconocibles como construcciones en castellano. Como ejemplo de lo que se puede conseguir, este es el resultado de generar texto después de 10 epochs y con temperature 0.2 usando El Quijote:\n",
        "\n",
        "\n",
        "```\n",
        "-----> Epoch: 10 - Generando texto con temperature 0.2\n",
        "Seed: o le cautivaron y rindieron el\n",
        "Texto generado: o le cautivaron y rindieron el caballero de la caballería de la mano de la caballería del cual se le dijo:\n",
        "\n",
        "-¿quién es el verdad de la caballería de la caballería de la caballería de la caballería de la caballería, y me ha de habían de la mano que el caballero de la mano de la caballería. y que no se le habían de la mano de la c\n",
        "\n",
        "```\n",
        "\n",
        "Asimismo, se proponen los siguientes aspectos opcionales para conseguir nota extra:\n",
        "\n",
        "*   Experimentar con los textos de teatro en verso de Calderón de la Barca (¿es capaz el modelo de aprender las estructuras del teatro en verso?) o con alguno de los otros textos disponibles. También se puede probar con textos de vuestra elección.\n",
        "*   Experimentar con distintos valores de SEQ_LENGTH.\n",
        "*   Experimentar con los hiperparámetros del modelo o probar otro tipo de modelos como GRUs o *stacked* RNNs (RNNs apiladas).\n",
        "*   Experimentar utilizando embeddings en vez de representaciones one-hot.\n",
        "*   (Difícil) Entrenar un modelo secuencia a secuencia en vez de secuencia a carácter.\n",
        "\n",
        "\n"
      ]
    }
  ]
}